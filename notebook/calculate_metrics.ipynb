{
 "cells": [
  {
   "cell_type": "markdown",
   "metadata": {},
   "source": [
    "This notebook is designed to calculate the metrics for the entire project, given catalog and reference catalog, calculate the precision, recall, and F1, for events, p, and s."
   ]
  },
  {
   "cell_type": "code",
   "execution_count": 1,
   "metadata": {},
   "outputs": [],
   "source": [
    "import pandas as pd"
   ]
  },
  {
   "cell_type": "markdown",
   "metadata": {},
   "source": [
    "# 1. load dataset"
   ]
  },
  {
   "cell_type": "code",
   "execution_count": 2,
   "metadata": {},
   "outputs": [
    {
     "data": {
      "text/plain": [
       "(  mp_event_index   sta type                       time\n",
       " 0       11_52111   A01    p 2009-12-02 01:14:41.317870\n",
       " 1       11_52111  A02W    p 2009-12-02 01:14:42.457750\n",
       " 2       11_52111   A03    p 2009-12-02 01:14:43.547000\n",
       " 3       11_52111   A05    p 2009-12-02 01:14:47.038000\n",
       " 4       11_52111  A06W    p 2009-12-02 01:14:48.857230,\n",
       " 57108)"
      ]
     },
     "execution_count": 2,
     "metadata": {},
     "output_type": "execute_result"
    }
   ],
   "source": [
    "reference_phase=pd.read_csv(\"/Users/ziyixi/Library/CloudStorage/OneDrive-MichiganStateUniversity/Paper/PhaseNetTF_myturn/PhaseNet-TF-Figures/phasenettf/data/catalog/tonga_picks_updated_2023_0426.csv\")\n",
    "reference_phase_melted = reference_phase.melt(id_vars=['originid', 'stacode'], \n",
    "                    value_vars=['arrival_time_P', 'arrival_time_S'], \n",
    "                    var_name='type', \n",
    "                    value_name='time')\n",
    "reference_phase_melted['type'] = reference_phase_melted['type'].str.replace('arrival_time_', '')\n",
    "reference_phase_melted[\"type\"]=reference_phase_melted[\"type\"].replace({\"P\":\"p\", \"S\":\"s\"})\n",
    "reference_phase_melted[\"time\"]=pd.to_datetime(reference_phase_melted[\"time\"])\n",
    "reference_phase_melted.rename(columns={\"stacode\":\"sta\", \"originid\":\"mp_event_index\"}, inplace=True)\n",
    "reference_phase_melted.dropna(inplace=True)\n",
    "reference_phase=reference_phase_melted\n",
    "reference_phase.head(),len(reference_phase)"
   ]
  },
  {
   "cell_type": "code",
   "execution_count": 3,
   "metadata": {},
   "outputs": [
    {
     "data": {
      "text/plain": [
       "(   latitude  longitude     depth                       time mp_event_index\n",
       " 0  -21.4486  -175.0123   59.8167 2009-12-02 01:14:28.278360       11_52111\n",
       " 1  -21.0021  -176.0597  189.5062 2009-12-02 02:25:13.607840       11_52113\n",
       " 2  -20.0291  -175.3772  179.2744 2009-12-02 15:41:32.776970       11_52115\n",
       " 3  -20.8052  -174.5321   66.1092 2009-12-03 09:43:16.236000       11_52119\n",
       " 4  -19.4698  -174.9927  146.2841 2009-12-04 17:37:18.418720       11_52124,\n",
       " 1163)"
      ]
     },
     "execution_count": 3,
     "metadata": {},
     "output_type": "execute_result"
    }
   ],
   "source": [
    "reference_catalog=pd.read_csv(\"/Users/ziyixi/Library/CloudStorage/OneDrive-MichiganStateUniversity/Paper/PhaseNetTF_myturn/PhaseNet-TF-Figures/phasenettf/data/catalog/tonga_catalog_updated_2023_0426.csv\")\n",
    "reference_catalog.drop(columns=[\"eventid\",\"author\",\"subset\",\"mb\",\"ISCid\"],inplace=True)\n",
    "reference_catalog[\"time\"]=pd.to_datetime(reference_catalog[\"time\"])\n",
    "reference_catalog.rename(columns={\"originid\":\"mp_event_index\"},inplace=True)\n",
    "reference_catalog.head(),len(reference_catalog)"
   ]
  },
  {
   "cell_type": "markdown",
   "metadata": {},
   "source": [
    "## 1.1 iteration 1"
   ]
  },
  {
   "cell_type": "markdown",
   "metadata": {},
   "source": [
    "### 1.1.1 PhaseNet-TF"
   ]
  },
  {
   "cell_type": "code",
   "execution_count": 4,
   "metadata": {},
   "outputs": [
    {
     "data": {
      "text/plain": [
       "(                        time type  event_index  gamma_score   sta\n",
       " 0 2009-11-01 12:29:38.419900    p           -1    -1.000000  MSVF\n",
       " 1 2009-11-01 16:03:19.149900    p        31625     0.079182  MSVF\n",
       " 2 2009-11-01 20:23:03.249900    p        12394     0.068525  MSVF\n",
       " 3 2009-11-01 20:59:34.149900    p           -1    -1.000000  MSVF\n",
       " 4 2009-11-01 20:23:15.619900    s        12394     0.052664  MSVF,\n",
       " 749549)"
      ]
     },
     "execution_count": 4,
     "metadata": {},
     "output_type": "execute_result"
    }
   ],
   "source": [
    "iteration1_phasenettf_phase=pd.read_csv(\n",
    "        \"/Users/ziyixi/Library/CloudStorage/OneDrive-MichiganStateUniversity/Paper/PhaseNetTF_myturn/PhaseNet-TF-Figures/phasenettf/data/catalog/continious_associated_assignment.csv\",\n",
    "        skiprows=1,\n",
    "        names=[\n",
    "            \"id\",\n",
    "            \"date\",\n",
    "            \"time\",\n",
    "            \"amp\",\n",
    "            \"type\",\n",
    "            \"prob\",\n",
    "            \"event_index\",\n",
    "            \"gamma_score\",\n",
    "        ],\n",
    "        sep=r\"\\s+\",\n",
    "    )\n",
    "\n",
    "iteration1_phasenettf_phase[\"sta\"]=iteration1_phasenettf_phase[\"id\"].str.split(\".\").str[1]\n",
    "iteration1_phasenettf_phase[\"time\"]=pd.to_datetime(iteration1_phasenettf_phase[\"date\"]+\" \"+iteration1_phasenettf_phase[\"time\"])\n",
    "iteration1_phasenettf_phase=iteration1_phasenettf_phase.drop([\"date\",\"id\",\"amp\",\"prob\"],axis=1)\n",
    "iteration1_phasenettf_phase.head(),len(iteration1_phasenettf_phase)"
   ]
  },
  {
   "cell_type": "markdown",
   "metadata": {},
   "source": [
    "### 1.1.2 Association"
   ]
  },
  {
   "cell_type": "code",
   "execution_count": 5,
   "metadata": {},
   "outputs": [
    {
     "data": {
      "text/plain": [
       "(                      time       depth  event_index   longitude   latitude\n",
       " 7  2010-03-22 10:19:17.558   37.395109          857 -174.019518 -22.143588\n",
       " 10 2010-04-15 01:53:59.089  356.973000         1513 -179.353219 -21.176853\n",
       " 11 2010-04-15 01:53:49.567  475.973000         1514 -179.209502 -20.870826\n",
       " 15 2010-04-27 22:08:58.514  316.537000           27 -173.970578 -23.510370\n",
       " 20 2010-09-23 23:30:12.772  629.213524          538 -177.499262 -18.009047,\n",
       " 14476)"
      ]
     },
     "execution_count": 5,
     "metadata": {},
     "output_type": "execute_result"
    }
   ],
   "source": [
    "iteration1_association_catalog = pd.read_csv(\n",
    "        \"/Users/ziyixi/Library/CloudStorage/OneDrive-MichiganStateUniversity/Paper/PhaseNetTF_myturn/PhaseNet-TF-Figures/phasenettf/data/catalog/continious_associated_catalog.csv\",\n",
    "        usecols=[\"time\", \"longitude\", \"latitude\", \"z(km)\", \"event_index\"],\n",
    "        sep=r\"\\s+\",\n",
    "    )\n",
    "iteration1_association_catalog[\"time\"]=pd.to_datetime(iteration1_association_catalog[\"time\"])\n",
    "iteration1_association_catalog.rename(\n",
    "        columns={\n",
    "            \"z(km)\": \"depth\",\n",
    "        },\n",
    "        inplace=True,\n",
    "    )\n",
    "iteration1_association_catalog = iteration1_association_catalog[\n",
    "        iteration1_association_catalog[\"event_index\"].isin(\n",
    "            iteration1_phasenettf_phase[\"event_index\"]\n",
    "            .value_counts()[iteration1_phasenettf_phase[\"event_index\"].value_counts() >= 10]\n",
    "            .index\n",
    "        )\n",
    "    ]\n",
    "iteration1_association_catalog.head(),len(iteration1_association_catalog)"
   ]
  },
  {
   "cell_type": "code",
   "execution_count": 6,
   "metadata": {},
   "outputs": [
    {
     "data": {
      "text/plain": [
       "(                         time type  event_index  gamma_score   sta\n",
       " 21 2009-11-04 20:43:54.029900    p        15715     0.083852  MSVF\n",
       " 29 2009-11-06 16:32:12.719900    p        21203     0.070487  MSVF\n",
       " 41 2009-11-08 08:25:51.549900    p        26282     0.104916  MSVF\n",
       " 44 2009-11-08 16:39:36.649900    p        53972     0.106067  MSVF\n",
       " 70 2009-11-10 08:05:06.929900    p         6004     0.088009  MSVF,\n",
       " 358469)"
      ]
     },
     "execution_count": 6,
     "metadata": {},
     "output_type": "execute_result"
    }
   ],
   "source": [
    "# select iteration1_association_phase from iteration1_phasenettf_phase with event_index in iteration1_association_catalog\n",
    "iteration1_association_catalog_event_index_set=set(iteration1_association_catalog[\"event_index\"])\n",
    "iteration1_association_phase=iteration1_phasenettf_phase[iteration1_phasenettf_phase[\"event_index\"].isin(iteration1_association_catalog_event_index_set)]\n",
    "iteration1_association_phase.head(),len(iteration1_association_phase)"
   ]
  },
  {
   "cell_type": "markdown",
   "metadata": {},
   "source": [
    "### 1.1.3 Relocation"
   ]
  },
  {
   "cell_type": "code",
   "execution_count": 7,
   "metadata": {},
   "outputs": [
    {
     "data": {
      "text/plain": [
       "(   event_index   latitude   longitude       depth  \\\n",
       " 0           55 -21.078356 -177.229740  365.655880   \n",
       " 1           68 -16.359084 -174.505760  204.380435   \n",
       " 2           74 -20.494930 -176.895955  478.382117   \n",
       " 3           88 -17.442211 -177.878019  646.372351   \n",
       " 4           93 -18.800355 -175.508731   28.436913   \n",
       " \n",
       "                            time  \n",
       " 0 2010-01-18 06:48:53.679099136  \n",
       " 1 2010-01-26 01:47:51.560340480  \n",
       " 2 2010-06-28 04:23:34.643994112  \n",
       " 3 2010-04-16 04:21:24.130119936  \n",
       " 4 2010-07-12 04:08:03.839479552  ,\n",
       " 9427)"
      ]
     },
     "execution_count": 7,
     "metadata": {},
     "output_type": "execute_result"
    }
   ],
   "source": [
    "iteration1_relocation_catalog = pd.read_csv(\n",
    "        \"/Users/ziyixi/Library/CloudStorage/OneDrive-MichiganStateUniversity/Paper/PhaseNetTF_myturn/PhaseNet-TF-Figures/phasenettf/data/catalog/continious_bootstrapped.csv\",\n",
    "        usecols=[0, 1, 2, 3, 4],\n",
    "    )\n",
    "iteration1_relocation_catalog.rename(\n",
    "        columns={\n",
    "            \"id\": \"event_index\",\n",
    "        },\n",
    "        inplace=True,\n",
    "    )\n",
    "iteration1_relocation_catalog[\"time\"] = pd.to_datetime(iteration1_relocation_catalog[\"datetime\"])\n",
    "iteration1_relocation_catalog.drop(columns=[\"datetime\"], inplace=True)\n",
    "iteration1_relocation_catalog.head(),len(iteration1_relocation_catalog)"
   ]
  },
  {
   "cell_type": "code",
   "execution_count": 8,
   "metadata": {},
   "outputs": [
    {
     "data": {
      "text/plain": [
       "(                         time type  event_index  gamma_score   sta\n",
       " 21 2009-11-04 20:43:54.029900    p        15715     0.083852  MSVF\n",
       " 70 2009-11-10 08:05:06.929900    p         6004     0.088009  MSVF\n",
       " 72 2009-11-10 08:17:57.669900    p        21695     0.113771  MSVF\n",
       " 76 2009-11-10 08:05:30.519900    s         6004     0.002691  MSVF\n",
       " 77 2009-11-10 08:18:55.549900    s        21695     0.108274  MSVF,\n",
       " 280844)"
      ]
     },
     "execution_count": 8,
     "metadata": {},
     "output_type": "execute_result"
    }
   ],
   "source": [
    "# select iteration1_relocation_phase from iteration1_phasenettf_phase with event_index in iteration1_relocation_catalog\n",
    "iteration1_relocation_catalog_event_index_set=set(iteration1_relocation_catalog[\"event_index\"])\n",
    "iteration1_relocation_phase=iteration1_phasenettf_phase[iteration1_phasenettf_phase[\"event_index\"].isin(iteration1_relocation_catalog_event_index_set)]\n",
    "iteration1_relocation_phase.head(),len(iteration1_relocation_phase)"
   ]
  },
  {
   "cell_type": "markdown",
   "metadata": {},
   "source": [
    "## 1.2 Iteration 2"
   ]
  },
  {
   "cell_type": "markdown",
   "metadata": {},
   "source": [
    "### 1.2.1 PhaseNet-TF"
   ]
  },
  {
   "cell_type": "code",
   "execution_count": 9,
   "metadata": {},
   "outputs": [
    {
     "data": {
      "text/plain": [
       "(                        time type  event_index  gamma_score   sta\n",
       " 0 2009-11-01 04:21:03.099900    p        25214     0.002465  MSVF\n",
       " 1 2009-11-01 08:07:02.399900    p           -1    -1.000000  MSVF\n",
       " 2 2009-11-01 12:29:38.529900    p           -1    -1.000000  MSVF\n",
       " 3 2009-11-01 12:57:23.319900    p           -1    -1.000000  MSVF\n",
       " 4 2009-11-01 16:03:19.029900    p        12931     0.077535  MSVF,\n",
       " 1293246)"
      ]
     },
     "execution_count": 9,
     "metadata": {},
     "output_type": "execute_result"
    }
   ],
   "source": [
    "iteration2_phasenettf_phase=pd.read_csv(\n",
    "        \"/Users/ziyixi/Library/CloudStorage/OneDrive-MichiganStateUniversity/Paper/PhaseNetTF_myturn/PhaseNet-TF-Figures/phasenettf/data/catalog/semi-v1.assignment.csv\",\n",
    "        skiprows=1,\n",
    "        names=[\n",
    "            \"id\",\n",
    "            \"date\",\n",
    "            \"time\",\n",
    "            \"amp\",\n",
    "            \"type\",\n",
    "            \"prob\",\n",
    "            \"event_index\",\n",
    "            \"gamma_score\",\n",
    "        ],\n",
    "        sep=r\"\\s+\",\n",
    "    )\n",
    "\n",
    "iteration2_phasenettf_phase[\"sta\"]=iteration2_phasenettf_phase[\"id\"].str.split(\".\").str[1]\n",
    "iteration2_phasenettf_phase[\"time\"]=pd.to_datetime(iteration2_phasenettf_phase[\"date\"]+\" \"+iteration2_phasenettf_phase[\"time\"])\n",
    "iteration2_phasenettf_phase=iteration2_phasenettf_phase.drop([\"date\",\"id\",\"amp\",\"prob\"],axis=1)\n",
    "iteration2_phasenettf_phase.head(),len(iteration2_phasenettf_phase)"
   ]
  },
  {
   "cell_type": "markdown",
   "metadata": {},
   "source": [
    "### 1.2.2 Association"
   ]
  },
  {
   "cell_type": "code",
   "execution_count": 10,
   "metadata": {},
   "outputs": [
    {
     "data": {
      "text/plain": [
       "(                      time      depth  event_index   longitude   latitude\n",
       " 6  2009-12-21 19:58:28.726  10.058378          360 -179.915481 -16.702746\n",
       " 21 2010-02-28 02:50:06.245  10.015000         2197 -175.167431 -20.698065\n",
       " 31 2010-10-05 10:43:02.557  10.000000         3722 -178.080696 -18.928388\n",
       " 35 2010-08-20 01:49:08.128  15.810072         4419 -176.360205 -21.317971\n",
       " 36 2010-06-11 12:00:32.439  18.076178         4748 -174.126398 -21.754550,\n",
       " 26845)"
      ]
     },
     "execution_count": 10,
     "metadata": {},
     "output_type": "execute_result"
    }
   ],
   "source": [
    "iteration2_association_catalog = pd.read_csv(\n",
    "        \"/Users/ziyixi/Library/CloudStorage/OneDrive-MichiganStateUniversity/Paper/PhaseNetTF_myturn/PhaseNet-TF-Figures/phasenettf/data/catalog/semi-v1.catalog.csv\",\n",
    "        usecols=[\"time\", \"longitude\", \"latitude\", \"z(km)\", \"event_index\"],\n",
    "        sep=r\"\\s+\",\n",
    "    )\n",
    "iteration2_association_catalog[\"time\"]=pd.to_datetime(iteration2_association_catalog[\"time\"])\n",
    "iteration2_association_catalog.rename(\n",
    "        columns={\n",
    "            \"z(km)\": \"depth\",\n",
    "        },\n",
    "        inplace=True,\n",
    "    )\n",
    "iteration2_association_catalog = iteration2_association_catalog[\n",
    "        iteration2_association_catalog[\"event_index\"].isin(\n",
    "            iteration2_phasenettf_phase[\"event_index\"]\n",
    "            .value_counts()[iteration2_phasenettf_phase[\"event_index\"].value_counts() >= 10]\n",
    "            .index\n",
    "        )\n",
    "    ]\n",
    "iteration2_association_catalog.head(),len(iteration2_association_catalog)"
   ]
  },
  {
   "cell_type": "code",
   "execution_count": 11,
   "metadata": {},
   "outputs": [
    {
     "data": {
      "text/plain": [
       "(                          time type  event_index  gamma_score   sta\n",
       " 62  2009-11-04 20:43:53.969900    p        98879     0.005614  MSVF\n",
       " 81  2009-11-06 16:32:12.919900    p        79255     0.071732  MSVF\n",
       " 105 2009-11-08 08:25:51.529900    p        67540     0.098302  MSVF\n",
       " 112 2009-11-08 16:39:36.679900    p        98419     0.111880  MSVF\n",
       " 114 2009-11-08 16:54:48.049900    p         1609     0.106416  MSVF,\n",
       " 636834)"
      ]
     },
     "execution_count": 11,
     "metadata": {},
     "output_type": "execute_result"
    }
   ],
   "source": [
    "iteration2_association_catalog_event_index_set=set(iteration2_association_catalog[\"event_index\"])\n",
    "iteration2_association_phase=iteration2_phasenettf_phase[iteration2_phasenettf_phase[\"event_index\"].isin(iteration2_association_catalog_event_index_set)]\n",
    "iteration2_association_phase.head(),len(iteration2_association_phase)"
   ]
  },
  {
   "cell_type": "markdown",
   "metadata": {},
   "source": [
    "### 1.2.3 Relocation"
   ]
  },
  {
   "cell_type": "code",
   "execution_count": 12,
   "metadata": {},
   "outputs": [
    {
     "data": {
      "text/plain": [
       "(   event_index   latitude   longitude       depth  \\\n",
       " 0           49 -24.055055 -178.753175  581.541092   \n",
       " 1           59 -22.996563 -175.655182   85.202101   \n",
       " 2           64 -23.101836 -178.642513  554.767645   \n",
       " 3           78 -21.863043 -175.590572  140.706452   \n",
       " 4           95 -20.365366 -177.123331  446.403303   \n",
       " \n",
       "                            time  \n",
       " 0 2010-09-05 06:20:43.693259008  \n",
       " 1 2010-02-03 07:50:12.698582784  \n",
       " 2 2010-07-21 13:36:11.897348096  \n",
       " 3 2010-02-07 15:23:13.122398720  \n",
       " 4 2010-04-16 07:59:40.670819840  ,\n",
       " 13799)"
      ]
     },
     "execution_count": 12,
     "metadata": {},
     "output_type": "execute_result"
    }
   ],
   "source": [
    "iteration2_relocation_catalog = pd.read_csv(\n",
    "        \"/Users/ziyixi/Library/CloudStorage/OneDrive-MichiganStateUniversity/Paper/PhaseNetTF_myturn/PhaseNet-TF-Figures/phasenettf/data/catalog/continious_semi.csv\",\n",
    "        usecols=[0, 1, 2, 3, 4],\n",
    "    )\n",
    "iteration2_relocation_catalog.rename(\n",
    "        columns={\n",
    "            \"id\": \"event_index\",\n",
    "        },\n",
    "        inplace=True,\n",
    "    )\n",
    "iteration2_relocation_catalog[\"time\"] = pd.to_datetime(iteration2_relocation_catalog[\"datetime\"])\n",
    "iteration2_relocation_catalog.drop(columns=[\"datetime\"], inplace=True)\n",
    "iteration2_relocation_catalog.head(),len(iteration2_relocation_catalog)"
   ]
  },
  {
   "cell_type": "code",
   "execution_count": 13,
   "metadata": {},
   "outputs": [
    {
     "data": {
      "text/plain": [
       "(                          time type  event_index  gamma_score   sta\n",
       " 62  2009-11-04 20:43:53.969900    p        98879     0.005614  MSVF\n",
       " 81  2009-11-06 16:32:12.919900    p        79255     0.071732  MSVF\n",
       " 112 2009-11-08 16:39:36.679900    p        98419     0.111880  MSVF\n",
       " 163 2009-11-10 08:05:07.049900    p        71320     0.095103  MSVF\n",
       " 165 2009-11-10 08:17:57.599900    p        14608     0.114541  MSVF,\n",
       " 422840)"
      ]
     },
     "execution_count": 13,
     "metadata": {},
     "output_type": "execute_result"
    }
   ],
   "source": [
    "iteration2_relocation_catalog_event_index_set=set(iteration2_relocation_catalog[\"event_index\"])\n",
    "iteration2_relocation_phase=iteration2_phasenettf_phase[iteration2_phasenettf_phase[\"event_index\"].isin(iteration2_relocation_catalog_event_index_set)]\n",
    "iteration2_relocation_phase.head(),len(iteration2_relocation_phase)"
   ]
  },
  {
   "cell_type": "code",
   "execution_count": 14,
   "metadata": {},
   "outputs": [
    {
     "name": "stdout",
     "output_type": "stream",
     "text": [
      "343247 79593\n"
     ]
    }
   ],
   "source": [
    "print(len(iteration2_relocation_phase[iteration2_relocation_phase[\"type\"]==\"p\"]),len(iteration2_relocation_phase[iteration2_relocation_phase[\"type\"]==\"s\"]))"
   ]
  },
  {
   "cell_type": "markdown",
   "metadata": {},
   "source": []
  },
  {
   "cell_type": "markdown",
   "metadata": {},
   "source": [
    "# Analysis"
   ]
  },
  {
   "cell_type": "code",
   "execution_count": 14,
   "metadata": {},
   "outputs": [],
   "source": [
    "def calculate_event_based_metrics(df_new_raw:pd.DataFrame,df_ref_raw:pd.DataFrame):\n",
    "    # calculate precision, recall, and f1-score, example df_new: iteration1_association_catalog, example df_ref: reference_catalog\n",
    "    df_new=df_new_raw.copy()\n",
    "    df_ref=df_ref_raw.copy()\n",
    "    df_new.sort_values(by=[\"time\"],inplace=True)\n",
    "    df_ref.sort_values(by=[\"time\"],inplace=True)\n",
    "    \n",
    "    merged=pd.merge_asof(df_new,df_ref,on=\"time\",direction=\"nearest\",tolerance=pd.Timedelta(\"30s\"))\n",
    "    merged.dropna(inplace=True)\n",
    "    merged.drop_duplicates(subset=[\"mp_event_index\"],inplace=True)\n",
    "    # calculate precision\n",
    "    tp=len(merged)\n",
    "    fp=len(df_new)-len(merged)\n",
    "    fn=len(df_ref)-len(merged)\n",
    "    precision=tp/(tp+fp)\n",
    "    recall=tp/(tp+fn)\n",
    "    f1_score=2*precision*recall/(precision+recall)\n",
    "    return {\n",
    "        \"tp\":tp,\n",
    "        \"fp\":fp,\n",
    "        \"fn\":fn,\n",
    "        \"precision\":precision,\n",
    "        \"recall\":recall,\n",
    "        \"f1_score\":f1_score,\n",
    "    }"
   ]
  },
  {
   "cell_type": "code",
   "execution_count": 15,
   "metadata": {},
   "outputs": [
    {
     "data": {
      "text/plain": [
       "{'tp': 1152,\n",
       " 'fp': 13324,\n",
       " 'fn': 11,\n",
       " 'precision': 0.0795799944736115,\n",
       " 'recall': 0.9905417024935511,\n",
       " 'f1_score': 0.14732399769806256}"
      ]
     },
     "execution_count": 15,
     "metadata": {},
     "output_type": "execute_result"
    }
   ],
   "source": [
    "calculate_event_based_metrics(iteration1_association_catalog,reference_catalog)"
   ]
  },
  {
   "cell_type": "code",
   "execution_count": 16,
   "metadata": {},
   "outputs": [
    {
     "data": {
      "text/plain": [
       "{'tp': 1138,\n",
       " 'fp': 8289,\n",
       " 'fn': 25,\n",
       " 'precision': 0.12071708921183834,\n",
       " 'recall': 0.9785038693035254,\n",
       " 'f1_score': 0.21491973559962227}"
      ]
     },
     "execution_count": 16,
     "metadata": {},
     "output_type": "execute_result"
    }
   ],
   "source": [
    "calculate_event_based_metrics(iteration1_relocation_catalog,reference_catalog)"
   ]
  },
  {
   "cell_type": "code",
   "execution_count": 17,
   "metadata": {},
   "outputs": [
    {
     "data": {
      "text/plain": [
       "{'tp': 1156,\n",
       " 'fp': 25689,\n",
       " 'fn': 7,\n",
       " 'precision': 0.043062022723039675,\n",
       " 'recall': 0.9939810834049871,\n",
       " 'f1_score': 0.08254784347329336}"
      ]
     },
     "execution_count": 17,
     "metadata": {},
     "output_type": "execute_result"
    }
   ],
   "source": [
    "calculate_event_based_metrics(iteration2_association_catalog,reference_catalog)"
   ]
  },
  {
   "cell_type": "code",
   "execution_count": 18,
   "metadata": {},
   "outputs": [
    {
     "data": {
      "text/plain": [
       "{'tp': 1142,\n",
       " 'fp': 12657,\n",
       " 'fn': 21,\n",
       " 'precision': 0.08275962026233785,\n",
       " 'recall': 0.9819432502149613,\n",
       " 'f1_score': 0.15265338858441385}"
      ]
     },
     "execution_count": 18,
     "metadata": {},
     "output_type": "execute_result"
    }
   ],
   "source": [
    "calculate_event_based_metrics(iteration2_relocation_catalog,reference_catalog)"
   ]
  },
  {
   "cell_type": "code",
   "execution_count": 19,
   "metadata": {},
   "outputs": [],
   "source": [
    "def calculate_phase_based_metrics(df_new_raw:pd.DataFrame,df_ref_raw:pd.DataFrame,phase:str):\n",
    "    # calculate precision, recall, and f1-score, example df_new: iteration1_association_phase, example df_ref: reference_phase\n",
    "    df_new=df_new_raw[df_new_raw[\"type\"]==phase].copy()\n",
    "    df_ref=df_ref_raw[df_ref_raw[\"type\"]==phase].copy()\n",
    "    df_new.sort_values(by=[\"time\",\"sta\"],inplace=True)\n",
    "    df_ref.sort_values(by=[\"time\",\"sta\"],inplace=True)\n",
    "    \n",
    "    merged=pd.merge_asof(df_new,df_ref,on=\"time\",by=\"sta\",direction=\"nearest\",tolerance=pd.Timedelta(\"1s\"))\n",
    "    merged.dropna(inplace=True)\n",
    "    merged.drop_duplicates(subset=[\"mp_event_index\",\"sta\"],inplace=True)\n",
    "    # calculate precision\n",
    "    tp=len(merged)\n",
    "    fp=len(df_new)-len(merged)\n",
    "    fn=len(df_ref)-len(merged)\n",
    "    precision=tp/(tp+fp)\n",
    "    recall=tp/(tp+fn)\n",
    "    f1_score=2*precision*recall/(precision+recall)\n",
    "    return {\n",
    "        \"tp\":tp,\n",
    "        \"fp\":fp,\n",
    "        \"fn\":fn,\n",
    "        \"precision\":precision,\n",
    "        \"recall\":recall,\n",
    "        \"f1_score\":f1_score,\n",
    "    }"
   ]
  },
  {
   "cell_type": "code",
   "execution_count": 20,
   "metadata": {},
   "outputs": [
    {
     "data": {
      "text/plain": [
       "{'tp': 40963,\n",
       " 'fp': 491469,\n",
       " 'fn': 1293,\n",
       " 'precision': 0.07693564624214923,\n",
       " 'recall': 0.969400795153351,\n",
       " 'f1_score': 0.14255735285929058}"
      ]
     },
     "execution_count": 20,
     "metadata": {},
     "output_type": "execute_result"
    }
   ],
   "source": [
    "calculate_phase_based_metrics(iteration1_phasenettf_phase,reference_phase,\"p\")"
   ]
  },
  {
   "cell_type": "code",
   "execution_count": 21,
   "metadata": {},
   "outputs": [
    {
     "data": {
      "text/plain": [
       "{'tp': 13907,\n",
       " 'fp': 203210,\n",
       " 'fn': 945,\n",
       " 'precision': 0.06405302210328993,\n",
       " 'recall': 0.9363722057635335,\n",
       " 'f1_score': 0.11990395268333268}"
      ]
     },
     "execution_count": 21,
     "metadata": {},
     "output_type": "execute_result"
    }
   ],
   "source": [
    "calculate_phase_based_metrics(iteration1_phasenettf_phase,reference_phase,\"s\")"
   ]
  },
  {
   "cell_type": "code",
   "execution_count": 22,
   "metadata": {},
   "outputs": [
    {
     "data": {
      "text/plain": [
       "{'tp': 40253,\n",
       " 'fp': 234628,\n",
       " 'fn': 2003,\n",
       " 'precision': 0.1464379131333195,\n",
       " 'recall': 0.9525984475577433,\n",
       " 'f1_score': 0.2538524360134579}"
      ]
     },
     "execution_count": 22,
     "metadata": {},
     "output_type": "execute_result"
    }
   ],
   "source": [
    "calculate_phase_based_metrics(iteration1_association_phase,reference_phase,\"p\")"
   ]
  },
  {
   "cell_type": "code",
   "execution_count": 23,
   "metadata": {},
   "outputs": [
    {
     "data": {
      "text/plain": [
       "{'tp': 12580,\n",
       " 'fp': 71008,\n",
       " 'fn': 2272,\n",
       " 'precision': 0.15050007178063837,\n",
       " 'recall': 0.8470239698357124,\n",
       " 'f1_score': 0.25558715969118245}"
      ]
     },
     "execution_count": 23,
     "metadata": {},
     "output_type": "execute_result"
    }
   ],
   "source": [
    "calculate_phase_based_metrics(iteration1_association_phase,reference_phase,\"s\")"
   ]
  },
  {
   "cell_type": "code",
   "execution_count": 24,
   "metadata": {},
   "outputs": [
    {
     "data": {
      "text/plain": [
       "{'tp': 39722,\n",
       " 'fp': 177532,\n",
       " 'fn': 2534,\n",
       " 'precision': 0.18283667964686495,\n",
       " 'recall': 0.940032184778493,\n",
       " 'f1_score': 0.30613078494085005}"
      ]
     },
     "execution_count": 24,
     "metadata": {},
     "output_type": "execute_result"
    }
   ],
   "source": [
    "calculate_phase_based_metrics(iteration1_relocation_phase,reference_phase,\"p\")"
   ]
  },
  {
   "cell_type": "code",
   "execution_count": 25,
   "metadata": {},
   "outputs": [
    {
     "data": {
      "text/plain": [
       "{'tp': 12316,\n",
       " 'fp': 51274,\n",
       " 'fn': 2536,\n",
       " 'precision': 0.1936782512973738,\n",
       " 'recall': 0.829248586049017,\n",
       " 'f1_score': 0.3140154509064022}"
      ]
     },
     "execution_count": 25,
     "metadata": {},
     "output_type": "execute_result"
    }
   ],
   "source": [
    "calculate_phase_based_metrics(iteration1_relocation_phase,reference_phase,\"s\")"
   ]
  },
  {
   "cell_type": "code",
   "execution_count": 26,
   "metadata": {},
   "outputs": [
    {
     "data": {
      "text/plain": [
       "{'tp': 40857,\n",
       " 'fp': 1086634,\n",
       " 'fn': 1399,\n",
       " 'precision': 0.03623709634932784,\n",
       " 'recall': 0.9668922756531617,\n",
       " 'f1_score': 0.06985613128308941}"
      ]
     },
     "execution_count": 26,
     "metadata": {},
     "output_type": "execute_result"
    }
   ],
   "source": [
    "calculate_phase_based_metrics(iteration2_phasenettf_phase,reference_phase,\"p\")"
   ]
  },
  {
   "cell_type": "code",
   "execution_count": 27,
   "metadata": {},
   "outputs": [
    {
     "data": {
      "text/plain": [
       "{'tp': 12826,\n",
       " 'fp': 152929,\n",
       " 'fn': 2026,\n",
       " 'precision': 0.07737926457723748,\n",
       " 'recall': 0.8635873956369513,\n",
       " 'f1_score': 0.1420321471482279}"
      ]
     },
     "execution_count": 27,
     "metadata": {},
     "output_type": "execute_result"
    }
   ],
   "source": [
    "calculate_phase_based_metrics(iteration2_phasenettf_phase,reference_phase,\"s\")"
   ]
  },
  {
   "cell_type": "code",
   "execution_count": 28,
   "metadata": {},
   "outputs": [
    {
     "data": {
      "text/plain": [
       "{'tp': 40282,\n",
       " 'fp': 486627,\n",
       " 'fn': 1974,\n",
       " 'precision': 0.07644963361794921,\n",
       " 'recall': 0.9532847406285498,\n",
       " 'f1_score': 0.1415477058497975}"
      ]
     },
     "execution_count": 28,
     "metadata": {},
     "output_type": "execute_result"
    }
   ],
   "source": [
    "calculate_phase_based_metrics(iteration2_association_phase,reference_phase,\"p\")"
   ]
  },
  {
   "cell_type": "code",
   "execution_count": 29,
   "metadata": {},
   "outputs": [
    {
     "data": {
      "text/plain": [
       "{'tp': 12111,\n",
       " 'fp': 97814,\n",
       " 'fn': 2741,\n",
       " 'precision': 0.11017511939959063,\n",
       " 'recall': 0.8154457312146512,\n",
       " 'f1_score': 0.19412231420854806}"
      ]
     },
     "execution_count": 29,
     "metadata": {},
     "output_type": "execute_result"
    }
   ],
   "source": [
    "calculate_phase_based_metrics(iteration2_association_phase,reference_phase,\"s\")"
   ]
  },
  {
   "cell_type": "code",
   "execution_count": 30,
   "metadata": {},
   "outputs": [
    {
     "data": {
      "text/plain": [
       "{'tp': 39724,\n",
       " 'fp': 303523,\n",
       " 'fn': 2532,\n",
       " 'precision': 0.11573007193070879,\n",
       " 'recall': 0.9400795153351004,\n",
       " 'f1_score': 0.20608918737337972}"
      ]
     },
     "execution_count": 30,
     "metadata": {},
     "output_type": "execute_result"
    }
   ],
   "source": [
    "calculate_phase_based_metrics(iteration2_relocation_phase,reference_phase,\"p\")"
   ]
  },
  {
   "cell_type": "code",
   "execution_count": 31,
   "metadata": {},
   "outputs": [
    {
     "data": {
      "text/plain": [
       "{'tp': 11936,\n",
       " 'fp': 67657,\n",
       " 'fn': 2916,\n",
       " 'precision': 0.14996293643913408,\n",
       " 'recall': 0.8036628063560464,\n",
       " 'f1_score': 0.2527608661125523}"
      ]
     },
     "execution_count": 31,
     "metadata": {},
     "output_type": "execute_result"
    }
   ],
   "source": [
    "calculate_phase_based_metrics(iteration2_relocation_phase,reference_phase,\"s\")"
   ]
  },
  {
   "cell_type": "code",
   "execution_count": null,
   "metadata": {},
   "outputs": [],
   "source": []
  }
 ],
 "metadata": {
  "kernelspec": {
   "display_name": "phasenet-tf-figures-iFaVRqIH-py3.9",
   "language": "python",
   "name": "python3"
  },
  "language_info": {
   "codemirror_mode": {
    "name": "ipython",
    "version": 3
   },
   "file_extension": ".py",
   "mimetype": "text/x-python",
   "name": "python",
   "nbconvert_exporter": "python",
   "pygments_lexer": "ipython3",
   "version": "3.9.13"
  },
  "orig_nbformat": 4
 },
 "nbformat": 4,
 "nbformat_minor": 2
}
