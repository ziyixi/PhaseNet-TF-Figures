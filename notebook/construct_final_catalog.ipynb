{
 "cells": [
  {
   "cell_type": "markdown",
   "metadata": {},
   "source": [
    "This notebook is designed to generate the final catalog based on .reloc file, the ISC catalog, and the GCMT catalog."
   ]
  },
  {
   "cell_type": "code",
   "execution_count": 14,
   "metadata": {},
   "outputs": [],
   "source": [
    "import pandas as pd\n",
    "import obspy\n",
    "from collections import defaultdict\n",
    "from tqdm import tqdm\n",
    "from itertools import product\n",
    "import numpy as np"
   ]
  },
  {
   "cell_type": "markdown",
   "metadata": {},
   "source": [
    "## load the .reloc file"
   ]
  },
  {
   "cell_type": "code",
   "execution_count": 4,
   "metadata": {},
   "outputs": [],
   "source": [
    "file_path=\"/Users/ziyixi/Library/CloudStorage/OneDrive-MichiganStateUniversity/Paper/PhaseNetTF_myturn/PhaseNet-TF-Figures/phasenettf/data/catalog/tomoDD.all_months_threshold10_08.reloc\"\n",
    "df=pd.read_csv(file_path,header=None,sep=\"\\s+\",usecols=[0,1,2,3,10,11,12,13,14,15],names=[\"id\",\"latitude\",\"longitude\",\"depth\",\"year\",\"month\",\"day\",\"hour\",\"minute\",\"second\"])\n",
    "# construct timestamp column\n",
    "df[\"timestamp\"]=pd.to_datetime(df[[\"year\",\"month\",\"day\",\"hour\",\"minute\",\"second\"]])"
   ]
  },
  {
   "cell_type": "code",
   "execution_count": 5,
   "metadata": {},
   "outputs": [
    {
     "data": {
      "text/html": [
       "<div>\n",
       "<style scoped>\n",
       "    .dataframe tbody tr th:only-of-type {\n",
       "        vertical-align: middle;\n",
       "    }\n",
       "\n",
       "    .dataframe tbody tr th {\n",
       "        vertical-align: top;\n",
       "    }\n",
       "\n",
       "    .dataframe thead th {\n",
       "        text-align: right;\n",
       "    }\n",
       "</style>\n",
       "<table border=\"1\" class=\"dataframe\">\n",
       "  <thead>\n",
       "    <tr style=\"text-align: right;\">\n",
       "      <th></th>\n",
       "      <th>id</th>\n",
       "      <th>latitude</th>\n",
       "      <th>longitude</th>\n",
       "      <th>depth</th>\n",
       "      <th>year</th>\n",
       "      <th>month</th>\n",
       "      <th>day</th>\n",
       "      <th>hour</th>\n",
       "      <th>minute</th>\n",
       "      <th>second</th>\n",
       "      <th>timestamp</th>\n",
       "    </tr>\n",
       "  </thead>\n",
       "  <tbody>\n",
       "    <tr>\n",
       "      <th>0</th>\n",
       "      <td>63</td>\n",
       "      <td>-17.106491</td>\n",
       "      <td>-176.983963</td>\n",
       "      <td>371.639</td>\n",
       "      <td>2010</td>\n",
       "      <td>9</td>\n",
       "      <td>30</td>\n",
       "      <td>17</td>\n",
       "      <td>51</td>\n",
       "      <td>35.64</td>\n",
       "      <td>2010-09-30 17:51:35.640</td>\n",
       "    </tr>\n",
       "    <tr>\n",
       "      <th>1</th>\n",
       "      <td>80</td>\n",
       "      <td>-21.711088</td>\n",
       "      <td>-174.561371</td>\n",
       "      <td>19.893</td>\n",
       "      <td>2010</td>\n",
       "      <td>6</td>\n",
       "      <td>4</td>\n",
       "      <td>15</td>\n",
       "      <td>15</td>\n",
       "      <td>22.08</td>\n",
       "      <td>2010-06-04 15:15:22.080</td>\n",
       "    </tr>\n",
       "    <tr>\n",
       "      <th>2</th>\n",
       "      <td>85</td>\n",
       "      <td>-21.853592</td>\n",
       "      <td>-174.170853</td>\n",
       "      <td>1.706</td>\n",
       "      <td>2010</td>\n",
       "      <td>2</td>\n",
       "      <td>14</td>\n",
       "      <td>22</td>\n",
       "      <td>23</td>\n",
       "      <td>22.60</td>\n",
       "      <td>2010-02-14 22:23:22.600</td>\n",
       "    </tr>\n",
       "    <tr>\n",
       "      <th>3</th>\n",
       "      <td>86</td>\n",
       "      <td>-19.213507</td>\n",
       "      <td>-175.351212</td>\n",
       "      <td>241.381</td>\n",
       "      <td>2010</td>\n",
       "      <td>6</td>\n",
       "      <td>14</td>\n",
       "      <td>21</td>\n",
       "      <td>58</td>\n",
       "      <td>44.48</td>\n",
       "      <td>2010-06-14 21:58:44.480</td>\n",
       "    </tr>\n",
       "    <tr>\n",
       "      <th>4</th>\n",
       "      <td>89</td>\n",
       "      <td>-17.339659</td>\n",
       "      <td>-174.425491</td>\n",
       "      <td>633.462</td>\n",
       "      <td>2010</td>\n",
       "      <td>10</td>\n",
       "      <td>20</td>\n",
       "      <td>4</td>\n",
       "      <td>10</td>\n",
       "      <td>25.97</td>\n",
       "      <td>2010-10-20 04:10:25.970</td>\n",
       "    </tr>\n",
       "  </tbody>\n",
       "</table>\n",
       "</div>"
      ],
      "text/plain": [
       "   id   latitude   longitude    depth  year  month  day  hour  minute  second  \\\n",
       "0  63 -17.106491 -176.983963  371.639  2010      9   30    17      51   35.64   \n",
       "1  80 -21.711088 -174.561371   19.893  2010      6    4    15      15   22.08   \n",
       "2  85 -21.853592 -174.170853    1.706  2010      2   14    22      23   22.60   \n",
       "3  86 -19.213507 -175.351212  241.381  2010      6   14    21      58   44.48   \n",
       "4  89 -17.339659 -174.425491  633.462  2010     10   20     4      10   25.97   \n",
       "\n",
       "                timestamp  \n",
       "0 2010-09-30 17:51:35.640  \n",
       "1 2010-06-04 15:15:22.080  \n",
       "2 2010-02-14 22:23:22.600  \n",
       "3 2010-06-14 21:58:44.480  \n",
       "4 2010-10-20 04:10:25.970  "
      ]
     },
     "execution_count": 5,
     "metadata": {},
     "output_type": "execute_result"
    }
   ],
   "source": [
    "df.head()"
   ]
  },
  {
   "cell_type": "markdown",
   "metadata": {},
   "source": [
    "## load GCMT catalog"
   ]
  },
  {
   "cell_type": "code",
   "execution_count": 6,
   "metadata": {},
   "outputs": [],
   "source": [
    "gcmt_catalog=obspy.read_events(\"/Users/ziyixi/Library/CloudStorage/OneDrive-MichiganStateUniversity/Paper/PhaseNetTF_myturn/PhaseNet-TF-Figures/phasenettf/data/catalog/gcmt.txt\")\n",
    "\n",
    "df_gcmt=[]\n",
    "for event in gcmt_catalog:\n",
    "    df_gcmt.append({\"gcmt_id\":event.resource_id.id.split(\"/\")[2],\"latitude\":event.origins[0].latitude,\"longitude\":event.origins[0].longitude,\"depth\":event.origins[0].depth/1000,\"timestamp\":event.origins[0].time}) \n",
    "df_gcmt=pd.DataFrame(df_gcmt)\n",
    "\n",
    "# remove last character of timestamp\n",
    "df_gcmt[\"timestamp\"]=df_gcmt[\"timestamp\"].astype(str).str[:-1]\n",
    "df_gcmt[\"timestamp\"]=pd.to_datetime(df_gcmt[\"timestamp\"])"
   ]
  },
  {
   "cell_type": "code",
   "execution_count": 7,
   "metadata": {},
   "outputs": [
    {
     "data": {
      "text/html": [
       "<div>\n",
       "<style scoped>\n",
       "    .dataframe tbody tr th:only-of-type {\n",
       "        vertical-align: middle;\n",
       "    }\n",
       "\n",
       "    .dataframe tbody tr th {\n",
       "        vertical-align: top;\n",
       "    }\n",
       "\n",
       "    .dataframe thead th {\n",
       "        text-align: right;\n",
       "    }\n",
       "</style>\n",
       "<table border=\"1\" class=\"dataframe\">\n",
       "  <thead>\n",
       "    <tr style=\"text-align: right;\">\n",
       "      <th></th>\n",
       "      <th>gcmt_id</th>\n",
       "      <th>latitude</th>\n",
       "      <th>longitude</th>\n",
       "      <th>depth</th>\n",
       "      <th>timestamp</th>\n",
       "    </tr>\n",
       "  </thead>\n",
       "  <tbody>\n",
       "    <tr>\n",
       "      <th>0</th>\n",
       "      <td>200911012128A</td>\n",
       "      <td>-15.34</td>\n",
       "      <td>-173.39</td>\n",
       "      <td>120.42</td>\n",
       "      <td>2009-11-01 21:29:04.170</td>\n",
       "    </tr>\n",
       "    <tr>\n",
       "      <th>1</th>\n",
       "      <td>200911021706A</td>\n",
       "      <td>-15.44</td>\n",
       "      <td>-172.97</td>\n",
       "      <td>12.00</td>\n",
       "      <td>2009-11-02 17:06:54.930</td>\n",
       "    </tr>\n",
       "    <tr>\n",
       "      <th>2</th>\n",
       "      <td>200911050600A</td>\n",
       "      <td>-17.49</td>\n",
       "      <td>-176.66</td>\n",
       "      <td>25.68</td>\n",
       "      <td>2009-11-05 06:00:44.290</td>\n",
       "    </tr>\n",
       "    <tr>\n",
       "      <th>3</th>\n",
       "      <td>200911050604A</td>\n",
       "      <td>-17.42</td>\n",
       "      <td>-176.64</td>\n",
       "      <td>23.94</td>\n",
       "      <td>2009-11-05 06:04:56.460</td>\n",
       "    </tr>\n",
       "    <tr>\n",
       "      <th>4</th>\n",
       "      <td>200911050611A</td>\n",
       "      <td>-17.53</td>\n",
       "      <td>-176.55</td>\n",
       "      <td>16.52</td>\n",
       "      <td>2009-11-05 06:11:54.510</td>\n",
       "    </tr>\n",
       "  </tbody>\n",
       "</table>\n",
       "</div>"
      ],
      "text/plain": [
       "         gcmt_id  latitude  longitude   depth               timestamp\n",
       "0  200911012128A    -15.34    -173.39  120.42 2009-11-01 21:29:04.170\n",
       "1  200911021706A    -15.44    -172.97   12.00 2009-11-02 17:06:54.930\n",
       "2  200911050600A    -17.49    -176.66   25.68 2009-11-05 06:00:44.290\n",
       "3  200911050604A    -17.42    -176.64   23.94 2009-11-05 06:04:56.460\n",
       "4  200911050611A    -17.53    -176.55   16.52 2009-11-05 06:11:54.510"
      ]
     },
     "execution_count": 7,
     "metadata": {},
     "output_type": "execute_result"
    }
   ],
   "source": [
    "df_gcmt.head()"
   ]
  },
  {
   "cell_type": "markdown",
   "metadata": {},
   "source": [
    "## load ISC catalog"
   ]
  },
  {
   "cell_type": "code",
   "execution_count": 8,
   "metadata": {},
   "outputs": [],
   "source": [
    "isc_file_path=\"/Users/ziyixi/Library/CloudStorage/OneDrive-MichiganStateUniversity/Paper/PhaseNetTF_myturn/PhaseNet-TF-Figures/phasenettf/data/catalog/isc.csv\"\n",
    "df_isc=pd.read_csv(isc_file_path,skiprows=1,usecols=[0,3,4,5,6,7],names=[\"isc_id\",\"date\",\"time\",\"latitude\",\"longitude\",\"depth\"])\n",
    "df_isc[\"timestamp\"]=pd.to_datetime(df_isc[\"date\"]+\" \"+df_isc[\"time\"])"
   ]
  },
  {
   "cell_type": "code",
   "execution_count": 9,
   "metadata": {},
   "outputs": [
    {
     "data": {
      "text/html": [
       "<div>\n",
       "<style scoped>\n",
       "    .dataframe tbody tr th:only-of-type {\n",
       "        vertical-align: middle;\n",
       "    }\n",
       "\n",
       "    .dataframe tbody tr th {\n",
       "        vertical-align: top;\n",
       "    }\n",
       "\n",
       "    .dataframe thead th {\n",
       "        text-align: right;\n",
       "    }\n",
       "</style>\n",
       "<table border=\"1\" class=\"dataframe\">\n",
       "  <thead>\n",
       "    <tr style=\"text-align: right;\">\n",
       "      <th></th>\n",
       "      <th>isc_id</th>\n",
       "      <th>date</th>\n",
       "      <th>time</th>\n",
       "      <th>latitude</th>\n",
       "      <th>longitude</th>\n",
       "      <th>depth</th>\n",
       "      <th>timestamp</th>\n",
       "    </tr>\n",
       "  </thead>\n",
       "  <tbody>\n",
       "    <tr>\n",
       "      <th>0</th>\n",
       "      <td>17143180</td>\n",
       "      <td>2009-11-01</td>\n",
       "      <td>02:05:26.33</td>\n",
       "      <td>-17.2298</td>\n",
       "      <td>179.8438</td>\n",
       "      <td>0.0</td>\n",
       "      <td>2009-11-01 02:05:26.330</td>\n",
       "    </tr>\n",
       "    <tr>\n",
       "      <th>1</th>\n",
       "      <td>17143181</td>\n",
       "      <td>2009-11-01</td>\n",
       "      <td>02:07:16</td>\n",
       "      <td>-16.2396</td>\n",
       "      <td>-179.2624</td>\n",
       "      <td>0.0</td>\n",
       "      <td>2009-11-01 02:07:16.000</td>\n",
       "    </tr>\n",
       "    <tr>\n",
       "      <th>2</th>\n",
       "      <td>17143183</td>\n",
       "      <td>2009-11-01</td>\n",
       "      <td>03:26:25.81</td>\n",
       "      <td>-14.4712</td>\n",
       "      <td>-173.5185</td>\n",
       "      <td>0.0</td>\n",
       "      <td>2009-11-01 03:26:25.810</td>\n",
       "    </tr>\n",
       "    <tr>\n",
       "      <th>3</th>\n",
       "      <td>17143186</td>\n",
       "      <td>2009-11-01</td>\n",
       "      <td>04:38:01.44</td>\n",
       "      <td>-14.3876</td>\n",
       "      <td>-173.1307</td>\n",
       "      <td>0.0</td>\n",
       "      <td>2009-11-01 04:38:01.440</td>\n",
       "    </tr>\n",
       "    <tr>\n",
       "      <th>4</th>\n",
       "      <td>17143195</td>\n",
       "      <td>2009-11-01</td>\n",
       "      <td>13:42:15.61</td>\n",
       "      <td>-17.6692</td>\n",
       "      <td>-175.3274</td>\n",
       "      <td>0.0</td>\n",
       "      <td>2009-11-01 13:42:15.610</td>\n",
       "    </tr>\n",
       "  </tbody>\n",
       "</table>\n",
       "</div>"
      ],
      "text/plain": [
       "     isc_id        date         time  latitude  longitude  depth  \\\n",
       "0  17143180  2009-11-01  02:05:26.33  -17.2298   179.8438    0.0   \n",
       "1  17143181  2009-11-01  02:07:16     -16.2396  -179.2624    0.0   \n",
       "2  17143183  2009-11-01  03:26:25.81  -14.4712  -173.5185    0.0   \n",
       "3  17143186  2009-11-01  04:38:01.44  -14.3876  -173.1307    0.0   \n",
       "4  17143195  2009-11-01  13:42:15.61  -17.6692  -175.3274    0.0   \n",
       "\n",
       "                timestamp  \n",
       "0 2009-11-01 02:05:26.330  \n",
       "1 2009-11-01 02:07:16.000  \n",
       "2 2009-11-01 03:26:25.810  \n",
       "3 2009-11-01 04:38:01.440  \n",
       "4 2009-11-01 13:42:15.610  "
      ]
     },
     "execution_count": 9,
     "metadata": {},
     "output_type": "execute_result"
    }
   ],
   "source": [
    "df_isc.head()"
   ]
  },
  {
   "cell_type": "markdown",
   "metadata": {},
   "source": [
    "## Do some analysis"
   ]
  },
  {
   "cell_type": "code",
   "execution_count": 23,
   "metadata": {},
   "outputs": [
    {
     "name": "stderr",
     "output_type": "stream",
     "text": [
      "100%|██████████| 30200880/30200880 [00:45<00:00, 666674.82it/s]\n"
     ]
    }
   ],
   "source": [
    "# Define thresholds\n",
    "DISTANCE_THRESHOLD=0.5\n",
    "DEPTH_THRESHOLD=100\n",
    "TIME_THRESHOLD=10\n",
    "\n",
    "# Convert DataFrame to list of records for faster iteration\n",
    "isc_records = df_isc.to_dict('records')\n",
    "df_records = df.to_dict('records')\n",
    "\n",
    "# Initialize matches dictionary\n",
    "isc_matches=defaultdict(lambda: {\"closest_event\": None, \"min_time_difference\": np.inf})\n",
    "\n",
    "# Iterate over cartesian product of records\n",
    "for isc_event, tomodd_event in tqdm(product(isc_records, df_records), total=len(isc_records)*len(df_records)):\n",
    "    # Calculate differences\n",
    "    lat_diff = abs(isc_event[\"latitude\"] - tomodd_event[\"latitude\"])\n",
    "    lon_diff = abs(isc_event[\"longitude\"] - tomodd_event[\"longitude\"])\n",
    "    depth_diff = abs(isc_event[\"depth\"] - tomodd_event[\"depth\"])\n",
    "    time_diff = abs((isc_event[\"timestamp\"] - tomodd_event[\"timestamp\"]).total_seconds())\n",
    "\n",
    "    # If within spatial thresholds\n",
    "    if lat_diff < DISTANCE_THRESHOLD and lon_diff < DISTANCE_THRESHOLD and depth_diff < DEPTH_THRESHOLD and time_diff < TIME_THRESHOLD:\n",
    "        # If the time difference is smaller than the current smallest time difference for this isc_id\n",
    "        if time_diff < isc_matches[isc_event[\"isc_id\"]][\"min_time_difference\"]:\n",
    "            # Update the closest event and the smallest time difference\n",
    "            isc_matches[isc_event[\"isc_id\"]][\"closest_event\"] = tomodd_event\n",
    "            isc_matches[isc_event[\"isc_id\"]][\"min_time_difference\"] = time_diff\n",
    "\n",
    "# If you want to remove the time differences from the final dictionary and just keep the closest events\n",
    "isc_matches_final={}\n",
    "for isc_id in isc_matches:\n",
    "    isc_matches_final[isc_id] = isc_matches[isc_id][\"closest_event\"]"
   ]
  },
  {
   "cell_type": "code",
   "execution_count": 26,
   "metadata": {},
   "outputs": [
    {
     "data": {
      "text/plain": [
       "{'id': 2272,\n",
       " 'latitude': -17.768507,\n",
       " 'longitude': -178.188599,\n",
       " 'depth': 583.527,\n",
       " 'year': 2010,\n",
       " 'month': 12,\n",
       " 'day': 18,\n",
       " 'hour': 4,\n",
       " 'minute': 4,\n",
       " 'second': 30.41,\n",
       " 'timestamp': Timestamp('2010-12-18 04:04:30.410000')}"
      ]
     },
     "execution_count": 26,
     "metadata": {},
     "output_type": "execute_result"
    }
   ],
   "source": [
    "isc_matches_final[15810850]"
   ]
  },
  {
   "cell_type": "code",
   "execution_count": 27,
   "metadata": {},
   "outputs": [],
   "source": [
    "df_with_isc=df.copy()\n",
    "df_with_isc[\"isc_id\"]=-1\n",
    "# update isc_id from isc_matches_final\n",
    "for isc_id in isc_matches_final:\n",
    "    df_with_isc.loc[df_with_isc[\"timestamp\"]==isc_matches_final[isc_id][\"timestamp\"],\"isc_id\"]=isc_id"
   ]
  },
  {
   "cell_type": "markdown",
   "metadata": {},
   "source": [
    "## Do similar things to the GCMT catalog"
   ]
  },
  {
   "cell_type": "code",
   "execution_count": 31,
   "metadata": {},
   "outputs": [
    {
     "name": "stderr",
     "output_type": "stream",
     "text": [
      "100%|██████████| 941280/941280 [00:01<00:00, 642595.75it/s]\n"
     ]
    }
   ],
   "source": [
    "# Define thresholds\n",
    "DISTANCE_THRESHOLD=0.5\n",
    "DEPTH_THRESHOLD=100\n",
    "TIME_THRESHOLD=10\n",
    "\n",
    "# Convert DataFrame to list of records for faster iteration\n",
    "gcmt_records = df_gcmt.to_dict('records')\n",
    "df_records = df.to_dict('records')\n",
    "\n",
    "# Initialize matches dictionary\n",
    "gcmt_matches=defaultdict(lambda: {\"closest_event\": None, \"min_time_difference\": np.inf})\n",
    "\n",
    "# Iterate over cartesian product of records\n",
    "for gcmt_event, tomodd_event in tqdm(product(gcmt_records, df_records), total=len(gcmt_records)*len(df_records)):\n",
    "    # Calculate differences\n",
    "    lat_diff = abs(gcmt_event[\"latitude\"] - tomodd_event[\"latitude\"])\n",
    "    lon_diff = abs(gcmt_event[\"longitude\"] - tomodd_event[\"longitude\"])\n",
    "    depth_diff = abs(gcmt_event[\"depth\"] - tomodd_event[\"depth\"])\n",
    "    time_diff = abs((gcmt_event[\"timestamp\"] - tomodd_event[\"timestamp\"]).total_seconds())\n",
    "\n",
    "    # If within spatial thresholds\n",
    "    if lat_diff < DISTANCE_THRESHOLD and lon_diff < DISTANCE_THRESHOLD and depth_diff < DEPTH_THRESHOLD and time_diff < TIME_THRESHOLD:\n",
    "        # If the time difference is smaller than the current smallest time difference for this gcmt_id\n",
    "        if time_diff < gcmt_matches[gcmt_event[\"gcmt_id\"]][\"min_time_difference\"]:\n",
    "            # Update the closest event and the smallest time difference\n",
    "            gcmt_matches[gcmt_event[\"gcmt_id\"]][\"closest_event\"] = tomodd_event\n",
    "            gcmt_matches[gcmt_event[\"gcmt_id\"]][\"min_time_difference\"] = time_diff\n",
    "\n",
    "# If you want to remove the time differences from the final dictionary and just keep the closest events\n",
    "gcmt_matches_final={}\n",
    "for gcmt_id in gcmt_matches:\n",
    "    gcmt_matches_final[gcmt_id] = gcmt_matches[gcmt_id][\"closest_event\"]"
   ]
  },
  {
   "cell_type": "code",
   "execution_count": 32,
   "metadata": {},
   "outputs": [
    {
     "data": {
      "text/plain": [
       "(106, 54)"
      ]
     },
     "execution_count": 32,
     "metadata": {},
     "output_type": "execute_result"
    }
   ],
   "source": [
    "len(df_gcmt),len(gcmt_matches_final)"
   ]
  },
  {
   "cell_type": "code",
   "execution_count": 33,
   "metadata": {},
   "outputs": [],
   "source": [
    "df_final=df_with_isc.copy()\n",
    "df_final[\"gcmt_id\"]=-1\n",
    "\n",
    "for gcmt_id in gcmt_matches_final:\n",
    "    df_final.loc[df_final[\"timestamp\"]==gcmt_matches_final[gcmt_id][\"timestamp\"],\"gcmt_id\"]=gcmt_id"
   ]
  },
  {
   "cell_type": "code",
   "execution_count": 36,
   "metadata": {},
   "outputs": [],
   "source": [
    "# write df_final to csv\n",
    "df_final.to_csv(\"./res/phasenetv3_08_gammaglobal_relocation10.csv\",index=False)"
   ]
  },
  {
   "cell_type": "markdown",
   "metadata": {},
   "source": [
    "## do simple analysis for df_final"
   ]
  },
  {
   "cell_type": "code",
   "execution_count": 37,
   "metadata": {},
   "outputs": [
    {
     "data": {
      "text/plain": [
       "592"
      ]
     },
     "execution_count": 37,
     "metadata": {},
     "output_type": "execute_result"
    }
   ],
   "source": [
    "len(df_final[df_final[\"isc_id\"]!=-1])"
   ]
  },
  {
   "cell_type": "code",
   "execution_count": 39,
   "metadata": {},
   "outputs": [
    {
     "data": {
      "text/plain": [
       "54"
      ]
     },
     "execution_count": 39,
     "metadata": {},
     "output_type": "execute_result"
    }
   ],
   "source": [
    "len(df_final[df_final[\"gcmt_id\"]!=-1])"
   ]
  },
  {
   "cell_type": "code",
   "execution_count": 41,
   "metadata": {},
   "outputs": [
    {
     "data": {
      "text/plain": [
       "44"
      ]
     },
     "execution_count": 41,
     "metadata": {},
     "output_type": "execute_result"
    }
   ],
   "source": [
    "# both isc_id and gcmt_id are not -1\n",
    "len(df_final[(df_final[\"isc_id\"]!=-1) & (df_final[\"gcmt_id\"]!=-1)])"
   ]
  },
  {
   "cell_type": "code",
   "execution_count": 42,
   "metadata": {},
   "outputs": [
    {
     "data": {
      "text/plain": [
       "3401"
      ]
     },
     "execution_count": 42,
     "metadata": {},
     "output_type": "execute_result"
    }
   ],
   "source": [
    "len(df_isc)"
   ]
  },
  {
   "cell_type": "code",
   "execution_count": 43,
   "metadata": {},
   "outputs": [
    {
     "data": {
      "text/plain": [
       "106"
      ]
     },
     "execution_count": 43,
     "metadata": {},
     "output_type": "execute_result"
    }
   ],
   "source": [
    "len(df_gcmt)"
   ]
  },
  {
   "cell_type": "code",
   "execution_count": 44,
   "metadata": {},
   "outputs": [
    {
     "data": {
      "text/plain": [
       "8880"
      ]
     },
     "execution_count": 44,
     "metadata": {},
     "output_type": "execute_result"
    }
   ],
   "source": [
    "len(df_final)"
   ]
  },
  {
   "cell_type": "code",
   "execution_count": null,
   "metadata": {},
   "outputs": [],
   "source": []
  }
 ],
 "metadata": {
  "kernelspec": {
   "display_name": "phasenet-tf-figures-iFaVRqIH-py3.9",
   "language": "python",
   "name": "python3"
  },
  "language_info": {
   "codemirror_mode": {
    "name": "ipython",
    "version": 3
   },
   "file_extension": ".py",
   "mimetype": "text/x-python",
   "name": "python",
   "nbconvert_exporter": "python",
   "pygments_lexer": "ipython3",
   "version": "3.9.13"
  },
  "orig_nbformat": 4
 },
 "nbformat": 4,
 "nbformat_minor": 2
}
