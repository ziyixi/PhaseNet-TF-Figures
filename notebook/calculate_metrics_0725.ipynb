{
 "cells": [
  {
   "cell_type": "markdown",
   "metadata": {},
   "source": [
    "This notebook is designed to recalculate the metrics based on only the manual picks"
   ]
  },
  {
   "cell_type": "code",
   "execution_count": 56,
   "metadata": {},
   "outputs": [],
   "source": [
    "import pandas as pd"
   ]
  },
  {
   "cell_type": "markdown",
   "metadata": {},
   "source": [
    "# 1. Load data"
   ]
  },
  {
   "cell_type": "code",
   "execution_count": 57,
   "metadata": {},
   "outputs": [
    {
     "data": {
      "text/plain": [
       "(  mp_event_index   sta type                       time\n",
       " 0       11_52111   A01    p 2009-12-02 01:14:41.317870\n",
       " 1       11_52111  A02W    p 2009-12-02 01:14:42.457750\n",
       " 2       11_52111   A03    p 2009-12-02 01:14:43.547000\n",
       " 3       11_52111   A05    p 2009-12-02 01:14:47.038000\n",
       " 4       11_52111  A06W    p 2009-12-02 01:14:48.857230,\n",
       " 57108)"
      ]
     },
     "execution_count": 57,
     "metadata": {},
     "output_type": "execute_result"
    }
   ],
   "source": [
    "reference_phase=pd.read_csv(\"/Users/ziyixi/Library/CloudStorage/OneDrive-MichiganStateUniversity/Paper/PhaseNetTF_myturn/PhaseNet-TF-Figures/phasenettf/data/catalog/tonga_picks_updated_2023_0426.csv\")\n",
    "reference_phase_melted = reference_phase.melt(id_vars=['originid', 'stacode'], \n",
    "                    value_vars=['arrival_time_P', 'arrival_time_S'], \n",
    "                    var_name='type', \n",
    "                    value_name='time')\n",
    "reference_phase_melted['type'] = reference_phase_melted['type'].str.replace('arrival_time_', '')\n",
    "reference_phase_melted[\"type\"]=reference_phase_melted[\"type\"].replace({\"P\":\"p\", \"S\":\"s\"})\n",
    "reference_phase_melted[\"time\"]=pd.to_datetime(reference_phase_melted[\"time\"])\n",
    "reference_phase_melted.rename(columns={\"stacode\":\"sta\", \"originid\":\"mp_event_index\"}, inplace=True)\n",
    "reference_phase_melted.dropna(inplace=True)\n",
    "reference_phase=reference_phase_melted\n",
    "reference_phase.head(),len(reference_phase)"
   ]
  },
  {
   "cell_type": "code",
   "execution_count": 58,
   "metadata": {},
   "outputs": [
    {
     "data": {
      "text/plain": [
       "(   latitude  longitude     depth                       time mp_event_index\n",
       " 0  -21.4486  -175.0123   59.8167 2009-12-02 01:14:28.278360       11_52111\n",
       " 1  -21.0021  -176.0597  189.5062 2009-12-02 02:25:13.607840       11_52113\n",
       " 2  -20.0291  -175.3772  179.2744 2009-12-02 15:41:32.776970       11_52115\n",
       " 3  -20.8052  -174.5321   66.1092 2009-12-03 09:43:16.236000       11_52119\n",
       " 4  -19.4698  -174.9927  146.2841 2009-12-04 17:37:18.418720       11_52124,\n",
       " 1163)"
      ]
     },
     "execution_count": 58,
     "metadata": {},
     "output_type": "execute_result"
    }
   ],
   "source": [
    "reference_catalog=pd.read_csv(\"/Users/ziyixi/Library/CloudStorage/OneDrive-MichiganStateUniversity/Paper/PhaseNetTF_myturn/PhaseNet-TF-Figures/phasenettf/data/catalog/tonga_catalog_updated_2023_0426.csv\")\n",
    "reference_catalog.drop(columns=[\"eventid\",\"author\",\"subset\",\"mb\",\"ISCid\"],inplace=True)\n",
    "reference_catalog[\"time\"]=pd.to_datetime(reference_catalog[\"time\"])\n",
    "reference_catalog.rename(columns={\"originid\":\"mp_event_index\"},inplace=True)\n",
    "reference_catalog.head(),len(reference_catalog)"
   ]
  },
  {
   "cell_type": "markdown",
   "metadata": {},
   "source": [
    "## 1.1 association"
   ]
  },
  {
   "cell_type": "code",
   "execution_count": 59,
   "metadata": {},
   "outputs": [
    {
     "data": {
      "text/plain": [
       "(                               time type  event_index  gamma_score   sta\n",
       " 11_52111 2009-12-02 01:14:41.317870    p         1052     0.213809   A01\n",
       " 11_52111 2009-12-02 01:14:51.343700    s         1052     0.213613   A01\n",
       " 11_52111 2009-12-02 01:14:42.457750    p         1052     0.196280  A02W\n",
       " 11_52111 2009-12-02 01:14:53.596650    s         1052     0.202071  A02W\n",
       " 11_52111 2009-12-02 01:14:43.547000    p         1052     0.200115   A03,\n",
       " 55183)"
      ]
     },
     "execution_count": 59,
     "metadata": {},
     "output_type": "execute_result"
    }
   ],
   "source": [
    "iteration1_phasenettf_phase=pd.read_csv(\n",
    "        \"/Users/ziyixi/Library/CloudStorage/OneDrive-MichiganStateUniversity/Paper/PhaseNetTF_myturn/PhaseNet-TF-Figures/phasenettf/data/catalog/manual_picks/manual_phase_picks.assignments.csv\",\n",
    "        skiprows=1,\n",
    "        names=[\n",
    "            \"id\",\n",
    "            \"date\",\n",
    "            \"time\",\n",
    "            \"amp\",\n",
    "            \"type\",\n",
    "            \"prob\",\n",
    "            \"event_index\",\n",
    "            \"gamma_score\",\n",
    "        ],\n",
    "        sep=r\"\\s+\",\n",
    "    )\n",
    "\n",
    "iteration1_phasenettf_phase[\"sta\"]=iteration1_phasenettf_phase[\"id\"].str.split(\".\").str[1]\n",
    "iteration1_phasenettf_phase[\"time\"]=pd.to_datetime(iteration1_phasenettf_phase[\"date\"]+\" \"+iteration1_phasenettf_phase[\"time\"])\n",
    "iteration1_phasenettf_phase=iteration1_phasenettf_phase.drop([\"date\",\"id\",\"amp\",\"prob\"],axis=1)\n",
    "iteration1_phasenettf_phase.head(),len(iteration1_phasenettf_phase)"
   ]
  },
  {
   "cell_type": "code",
   "execution_count": 60,
   "metadata": {},
   "outputs": [
    {
     "data": {
      "text/plain": [
       "(                     time       depth  event_index   longitude   latitude\n",
       " 0 2010-04-05 14:35:58.504  211.315330           31 -175.605850 -20.355755\n",
       " 1 2010-03-01 08:48:42.766  531.988000          144 -178.226265 -17.511445\n",
       " 2 2010-03-01 08:48:46.110  522.842526          145 -177.679249 -17.689561\n",
       " 3 2009-12-08 12:39:07.872  208.602000           65 -176.107451 -21.210745\n",
       " 4 2010-04-17 01:37:08.645  507.835920           73 -177.392737 -20.200993,\n",
       " 1187)"
      ]
     },
     "execution_count": 60,
     "metadata": {},
     "output_type": "execute_result"
    }
   ],
   "source": [
    "iteration1_association_catalog = pd.read_csv(\n",
    "        \"/Users/ziyixi/Library/CloudStorage/OneDrive-MichiganStateUniversity/Paper/PhaseNetTF_myturn/PhaseNet-TF-Figures/phasenettf/data/catalog/manual_picks/manual_phase_picks.catalog.csv\",\n",
    "        usecols=[\"time\", \"longitude\", \"latitude\", \"z(km)\", \"event_index\"],\n",
    "        sep=r\"\\s+\",\n",
    "    )\n",
    "iteration1_association_catalog[\"time\"]=pd.to_datetime(iteration1_association_catalog[\"time\"])\n",
    "iteration1_association_catalog.rename(\n",
    "        columns={\n",
    "            \"z(km)\": \"depth\",\n",
    "        },\n",
    "        inplace=True,\n",
    "    )\n",
    "iteration1_association_catalog = iteration1_association_catalog[\n",
    "        iteration1_association_catalog[\"event_index\"].isin(\n",
    "            iteration1_phasenettf_phase[\"event_index\"]\n",
    "            .value_counts()[iteration1_phasenettf_phase[\"event_index\"].value_counts() >= 10]\n",
    "            .index\n",
    "        )\n",
    "    ]\n",
    "iteration1_association_catalog.head(),len(iteration1_association_catalog)"
   ]
  },
  {
   "cell_type": "code",
   "execution_count": 61,
   "metadata": {},
   "outputs": [
    {
     "data": {
      "text/plain": [
       "(                               time type  event_index  gamma_score   sta\n",
       " 11_52111 2009-12-02 01:14:41.317870    p         1052     0.213809   A01\n",
       " 11_52111 2009-12-02 01:14:51.343700    s         1052     0.213613   A01\n",
       " 11_52111 2009-12-02 01:14:42.457750    p         1052     0.196280  A02W\n",
       " 11_52111 2009-12-02 01:14:53.596650    s         1052     0.202071  A02W\n",
       " 11_52111 2009-12-02 01:14:43.547000    p         1052     0.200115   A03,\n",
       " 53332)"
      ]
     },
     "execution_count": 61,
     "metadata": {},
     "output_type": "execute_result"
    }
   ],
   "source": [
    "# select iteration1_association_phase from iteration1_phasenettf_phase with event_index in iteration1_association_catalog\n",
    "iteration1_association_catalog_event_index_set=set(iteration1_association_catalog[\"event_index\"])\n",
    "iteration1_association_phase=iteration1_phasenettf_phase[iteration1_phasenettf_phase[\"event_index\"].isin(iteration1_association_catalog_event_index_set)]\n",
    "iteration1_association_phase.head(),len(iteration1_association_phase)"
   ]
  },
  {
   "cell_type": "markdown",
   "metadata": {},
   "source": [
    "## 1.2 Relocation"
   ]
  },
  {
   "cell_type": "code",
   "execution_count": 62,
   "metadata": {},
   "outputs": [
    {
     "data": {
      "text/plain": [
       "(   event_index   latitude    lonitude       depth  \\\n",
       " 0            0 -17.359103 -178.506035  668.547502   \n",
       " 1            2 -17.073254 -173.492853   27.456746   \n",
       " 2            3 -18.039941 -177.789039  426.305508   \n",
       " 3            4 -21.547365 -178.622186  660.387356   \n",
       " 4            5 -20.881543 -176.394364  187.810662   \n",
       " \n",
       "                            time  \n",
       " 0 2010-03-04 23:45:09.862120192  \n",
       " 1 2010-02-24 07:46:01.778779904  \n",
       " 2 2010-05-20 02:23:24.466560000  \n",
       " 3 2010-03-12 12:44:05.611340032  \n",
       " 4 2010-01-12 11:04:22.847159808  ,\n",
       " 1158)"
      ]
     },
     "execution_count": 62,
     "metadata": {},
     "output_type": "execute_result"
    }
   ],
   "source": [
    "iteration1_relocation_catalog = pd.read_csv(\n",
    "        \"/Users/ziyixi/Library/CloudStorage/OneDrive-MichiganStateUniversity/Paper/PhaseNetTF_myturn/PhaseNet-TF-Figures/phasenettf/data/catalog/manual_picks/bootstrap.teletomodd.csv\",\n",
    "        usecols=[0, 1, 2, 3, 4],\n",
    "    )\n",
    "iteration1_relocation_catalog.rename(\n",
    "        columns={\n",
    "            \"id\": \"event_index\",\n",
    "        },\n",
    "        inplace=True,\n",
    "    )\n",
    "iteration1_relocation_catalog[\"time\"] = pd.to_datetime(iteration1_relocation_catalog[\"datetime\"],format='ISO8601')\n",
    "iteration1_relocation_catalog.drop(columns=[\"datetime\"], inplace=True)\n",
    "iteration1_relocation_catalog.head(),len(iteration1_relocation_catalog)"
   ]
  },
  {
   "cell_type": "code",
   "execution_count": 63,
   "metadata": {},
   "outputs": [
    {
     "data": {
      "text/plain": [
       "(                               time type  event_index  gamma_score   sta\n",
       " 11_52111 2009-12-02 01:14:41.317870    p         1052     0.213809   A01\n",
       " 11_52111 2009-12-02 01:14:51.343700    s         1052     0.213613   A01\n",
       " 11_52111 2009-12-02 01:14:42.457750    p         1052     0.196280  A02W\n",
       " 11_52111 2009-12-02 01:14:53.596650    s         1052     0.202071  A02W\n",
       " 11_52111 2009-12-02 01:14:43.547000    p         1052     0.200115   A03,\n",
       " 52686)"
      ]
     },
     "execution_count": 63,
     "metadata": {},
     "output_type": "execute_result"
    }
   ],
   "source": [
    "# select iteration1_relocation_phase from iteration1_phasenettf_phase with event_index in iteration1_relocation_catalog\n",
    "iteration1_relocation_catalog_event_index_set=set(iteration1_relocation_catalog[\"event_index\"])\n",
    "iteration1_relocation_phase=iteration1_phasenettf_phase[iteration1_phasenettf_phase[\"event_index\"].isin(iteration1_relocation_catalog_event_index_set)]\n",
    "iteration1_relocation_phase.head(),len(iteration1_relocation_phase)"
   ]
  },
  {
   "cell_type": "markdown",
   "metadata": {},
   "source": [
    "# Analysis"
   ]
  },
  {
   "cell_type": "code",
   "execution_count": 64,
   "metadata": {},
   "outputs": [],
   "source": [
    "def calculate_event_based_metrics(df_new_raw:pd.DataFrame,df_ref_raw:pd.DataFrame):\n",
    "    # calculate precision, recall, and f1-score, example df_new: iteration1_association_catalog, example df_ref: reference_catalog\n",
    "    df_new=df_new_raw.copy()\n",
    "    df_ref=df_ref_raw.copy()\n",
    "    df_new.sort_values(by=[\"time\"],inplace=True)\n",
    "    df_ref.sort_values(by=[\"time\"],inplace=True)\n",
    "    \n",
    "    merged=pd.merge_asof(df_new,df_ref,on=\"time\",direction=\"nearest\",tolerance=pd.Timedelta(\"15s\"))\n",
    "    merged.dropna(inplace=True)\n",
    "    merged.drop_duplicates(subset=[\"mp_event_index\"],inplace=True)\n",
    "    # calculate precision\n",
    "    tp=len(merged)\n",
    "    fp=len(df_new)-len(merged)\n",
    "    fn=len(df_ref)-len(merged)\n",
    "    precision=tp/(tp+fp)\n",
    "    recall=tp/(tp+fn)\n",
    "    f1_score=2*precision*recall/(precision+recall)\n",
    "    return {\n",
    "        \"tp\":tp,\n",
    "        \"fp\":fp,\n",
    "        \"fn\":fn,\n",
    "        \"precision\":precision,\n",
    "        \"recall\":recall,\n",
    "        \"f1_score\":f1_score,\n",
    "    }"
   ]
  },
  {
   "cell_type": "code",
   "execution_count": 65,
   "metadata": {},
   "outputs": [
    {
     "data": {
      "text/plain": [
       "{'tp': 1123,\n",
       " 'fp': 64,\n",
       " 'fn': 40,\n",
       " 'precision': 0.9460825610783488,\n",
       " 'recall': 0.9656061908856406,\n",
       " 'f1_score': 0.9557446808510639}"
      ]
     },
     "execution_count": 65,
     "metadata": {},
     "output_type": "execute_result"
    }
   ],
   "source": [
    "calculate_event_based_metrics(iteration1_association_catalog,reference_catalog)"
   ]
  },
  {
   "cell_type": "code",
   "execution_count": 66,
   "metadata": {},
   "outputs": [
    {
     "data": {
      "text/plain": [
       "{'tp': 1103,\n",
       " 'fp': 55,\n",
       " 'fn': 60,\n",
       " 'precision': 0.9525043177892919,\n",
       " 'recall': 0.9484092863284609,\n",
       " 'f1_score': 0.9504523912106851}"
      ]
     },
     "execution_count": 66,
     "metadata": {},
     "output_type": "execute_result"
    }
   ],
   "source": [
    "calculate_event_based_metrics(iteration1_relocation_catalog,reference_catalog)"
   ]
  },
  {
   "cell_type": "code",
   "execution_count": 67,
   "metadata": {},
   "outputs": [],
   "source": [
    "def calculate_phase_based_metrics(df_new_raw:pd.DataFrame,df_ref_raw:pd.DataFrame,phase:str):\n",
    "    # calculate precision, recall, and f1-score, example df_new: iteration1_association_phase, example df_ref: reference_phase\n",
    "    df_new=df_new_raw[df_new_raw[\"type\"]==phase].copy()\n",
    "    df_ref=df_ref_raw[df_ref_raw[\"type\"]==phase].copy()\n",
    "    df_new.sort_values(by=[\"time\",\"sta\"],inplace=True)\n",
    "    df_ref.sort_values(by=[\"time\",\"sta\"],inplace=True)\n",
    "    \n",
    "    merged=pd.merge_asof(df_new,df_ref,on=\"time\",by=\"sta\",direction=\"nearest\",tolerance=pd.Timedelta(\"0.5s\"))\n",
    "    merged.dropna(inplace=True)\n",
    "    merged.drop_duplicates(subset=[\"mp_event_index\",\"sta\"],inplace=True)\n",
    "    # calculate precision\n",
    "    tp=len(merged)\n",
    "    fp=len(df_new)-len(merged)\n",
    "    fn=len(df_ref)-len(merged)\n",
    "    precision=tp/(tp+fp)\n",
    "    recall=tp/(tp+fn)\n",
    "    f1_score=2*precision*recall/(precision+recall)\n",
    "    return {\n",
    "        \"tp\":tp,\n",
    "        \"fp\":fp,\n",
    "        \"fn\":fn,\n",
    "        \"precision\":precision,\n",
    "        \"recall\":recall,\n",
    "        \"f1_score\":f1_score,\n",
    "    }"
   ]
  },
  {
   "cell_type": "code",
   "execution_count": 68,
   "metadata": {},
   "outputs": [
    {
     "data": {
      "text/plain": [
       "{'tp': 40481,\n",
       " 'fp': 0,\n",
       " 'fn': 1775,\n",
       " 'precision': 1.0,\n",
       " 'recall': 0.9579941310109807,\n",
       " 'f1_score': 0.9785464786008679}"
      ]
     },
     "execution_count": 68,
     "metadata": {},
     "output_type": "execute_result"
    }
   ],
   "source": [
    "calculate_phase_based_metrics(iteration1_association_phase,reference_phase,\"p\")"
   ]
  },
  {
   "cell_type": "code",
   "execution_count": 69,
   "metadata": {},
   "outputs": [
    {
     "data": {
      "text/plain": [
       "{'tp': 12851,\n",
       " 'fp': 0,\n",
       " 'fn': 2001,\n",
       " 'precision': 1.0,\n",
       " 'recall': 0.865270670616752,\n",
       " 'f1_score': 0.927769555643793}"
      ]
     },
     "execution_count": 69,
     "metadata": {},
     "output_type": "execute_result"
    }
   ],
   "source": [
    "calculate_phase_based_metrics(iteration1_association_phase,reference_phase,\"s\")"
   ]
  },
  {
   "cell_type": "code",
   "execution_count": 70,
   "metadata": {},
   "outputs": [
    {
     "data": {
      "text/plain": [
       "{'tp': 39969,\n",
       " 'fp': 0,\n",
       " 'fn': 2287,\n",
       " 'precision': 1.0,\n",
       " 'recall': 0.9458775085195001,\n",
       " 'f1_score': 0.9721860747947704}"
      ]
     },
     "execution_count": 70,
     "metadata": {},
     "output_type": "execute_result"
    }
   ],
   "source": [
    "calculate_phase_based_metrics(iteration1_relocation_phase,reference_phase,\"p\")"
   ]
  },
  {
   "cell_type": "code",
   "execution_count": 71,
   "metadata": {},
   "outputs": [
    {
     "data": {
      "text/plain": [
       "{'tp': 12717,\n",
       " 'fp': 0,\n",
       " 'fn': 2135,\n",
       " 'precision': 1.0,\n",
       " 'recall': 0.8562483167250202,\n",
       " 'f1_score': 0.9225579455185171}"
      ]
     },
     "execution_count": 71,
     "metadata": {},
     "output_type": "execute_result"
    }
   ],
   "source": [
    "calculate_phase_based_metrics(iteration1_relocation_phase,reference_phase,\"s\")"
   ]
  },
  {
   "cell_type": "code",
   "execution_count": null,
   "metadata": {},
   "outputs": [],
   "source": []
  }
 ],
 "metadata": {
  "kernelspec": {
   "display_name": "phasenet-tf-figures-iFaVRqIH-py3.9",
   "language": "python",
   "name": "python3"
  },
  "language_info": {
   "codemirror_mode": {
    "name": "ipython",
    "version": 3
   },
   "file_extension": ".py",
   "mimetype": "text/x-python",
   "name": "python",
   "nbconvert_exporter": "python",
   "pygments_lexer": "ipython3",
   "version": "3.9.13"
  },
  "orig_nbformat": 4
 },
 "nbformat": 4,
 "nbformat_minor": 2
}
