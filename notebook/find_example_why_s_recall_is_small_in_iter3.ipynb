{
 "cells": [
  {
   "cell_type": "markdown",
   "metadata": {},
   "source": [
    "This notebook is designed to address the question why recall in iteration 3 is smaller than previous iterations. What happens to the S wave not detected by the new iteration."
   ]
  },
  {
   "cell_type": "code",
   "execution_count": 1,
   "metadata": {},
   "outputs": [],
   "source": [
    "import pandas as pd"
   ]
  },
  {
   "cell_type": "code",
   "execution_count": 2,
   "metadata": {},
   "outputs": [
    {
     "data": {
      "text/plain": [
       "(  mp_event_index   sta type                       time\n",
       " 0       11_52111   A01    p 2009-12-02 01:14:41.317870\n",
       " 1       11_52111  A02W    p 2009-12-02 01:14:42.457750\n",
       " 2       11_52111   A03    p 2009-12-02 01:14:43.547000\n",
       " 3       11_52111   A05    p 2009-12-02 01:14:47.038000\n",
       " 4       11_52111  A06W    p 2009-12-02 01:14:48.857230,\n",
       " 57108)"
      ]
     },
     "execution_count": 2,
     "metadata": {},
     "output_type": "execute_result"
    }
   ],
   "source": [
    "reference_phase=pd.read_csv(\"/Users/ziyixi/Library/CloudStorage/OneDrive-MichiganStateUniversity/Paper/PhaseNetTF_myturn/PhaseNet-TF-Figures/phasenettf/data/catalog/tonga_picks_updated_2023_0426.csv\")\n",
    "reference_phase_melted = reference_phase.melt(id_vars=['originid', 'stacode'], \n",
    "                    value_vars=['arrival_time_P', 'arrival_time_S'], \n",
    "                    var_name='type', \n",
    "                    value_name='time')\n",
    "reference_phase_melted['type'] = reference_phase_melted['type'].str.replace('arrival_time_', '')\n",
    "reference_phase_melted[\"type\"]=reference_phase_melted[\"type\"].replace({\"P\":\"p\", \"S\":\"s\"})\n",
    "reference_phase_melted[\"time\"]=pd.to_datetime(reference_phase_melted[\"time\"])\n",
    "reference_phase_melted.rename(columns={\"stacode\":\"sta\", \"originid\":\"mp_event_index\"}, inplace=True)\n",
    "reference_phase_melted.dropna(inplace=True)\n",
    "reference_phase=reference_phase_melted\n",
    "reference_phase.head(),len(reference_phase)"
   ]
  },
  {
   "cell_type": "code",
   "execution_count": 3,
   "metadata": {},
   "outputs": [
    {
     "data": {
      "text/plain": [
       "(42256, 14852)"
      ]
     },
     "execution_count": 3,
     "metadata": {},
     "output_type": "execute_result"
    }
   ],
   "source": [
    "len(reference_phase[reference_phase.type==\"p\"]),len(reference_phase[reference_phase.type==\"s\"])"
   ]
  },
  {
   "cell_type": "code",
   "execution_count": 4,
   "metadata": {},
   "outputs": [
    {
     "data": {
      "text/plain": [
       "(   latitude  longitude     depth                       time mp_event_index\n",
       " 0  -21.4486  -175.0123   59.8167 2009-12-02 01:14:28.278360       11_52111\n",
       " 1  -21.0021  -176.0597  189.5062 2009-12-02 02:25:13.607840       11_52113\n",
       " 2  -20.0291  -175.3772  179.2744 2009-12-02 15:41:32.776970       11_52115\n",
       " 3  -20.8052  -174.5321   66.1092 2009-12-03 09:43:16.236000       11_52119\n",
       " 4  -19.4698  -174.9927  146.2841 2009-12-04 17:37:18.418720       11_52124,\n",
       " 1163)"
      ]
     },
     "execution_count": 4,
     "metadata": {},
     "output_type": "execute_result"
    }
   ],
   "source": [
    "reference_catalog=pd.read_csv(\"/Users/ziyixi/Library/CloudStorage/OneDrive-MichiganStateUniversity/Paper/PhaseNetTF_myturn/PhaseNet-TF-Figures/phasenettf/data/catalog/tonga_catalog_updated_2023_0426.csv\")\n",
    "reference_catalog.drop(columns=[\"eventid\",\"author\",\"subset\",\"mb\",\"ISCid\"],inplace=True)\n",
    "reference_catalog[\"time\"]=pd.to_datetime(reference_catalog[\"time\"])\n",
    "reference_catalog.rename(columns={\"originid\":\"mp_event_index\"},inplace=True)\n",
    "reference_catalog.head(),len(reference_catalog)"
   ]
  },
  {
   "cell_type": "code",
   "execution_count": 5,
   "metadata": {},
   "outputs": [
    {
     "data": {
      "text/plain": [
       "(   event_index   latitude   longitude       depth  \\\n",
       " 0           55 -21.078356 -177.229740  365.655880   \n",
       " 1           68 -16.359084 -174.505760  204.380435   \n",
       " 2           74 -20.494930 -176.895955  478.382117   \n",
       " 3           88 -17.442211 -177.878019  646.372351   \n",
       " 4           93 -18.800355 -175.508731   28.436913   \n",
       " \n",
       "                            time  \n",
       " 0 2010-01-18 06:48:53.679099136  \n",
       " 1 2010-01-26 01:47:51.560340480  \n",
       " 2 2010-06-28 04:23:34.643994112  \n",
       " 3 2010-04-16 04:21:24.130119936  \n",
       " 4 2010-07-12 04:08:03.839479552  ,\n",
       " 9427)"
      ]
     },
     "execution_count": 5,
     "metadata": {},
     "output_type": "execute_result"
    }
   ],
   "source": [
    "iteration1_catalog = pd.read_csv(\n",
    "        \"/Users/ziyixi/Library/CloudStorage/OneDrive-MichiganStateUniversity/Paper/PhaseNetTF_myturn/PhaseNet-TF-Figures/phasenettf/data/catalog/continious_bootstrapped.csv\",\n",
    "        usecols=[0, 1, 2, 3, 4],\n",
    "    )\n",
    "iteration1_catalog.rename(\n",
    "        columns={\n",
    "            \"id\": \"event_index\",\n",
    "        },\n",
    "        inplace=True,\n",
    "    )\n",
    "iteration1_catalog[\"time\"] = pd.to_datetime(iteration1_catalog[\"datetime\"])\n",
    "iteration1_catalog.drop(columns=[\"datetime\"], inplace=True)\n",
    "iteration1_catalog.head(),len(iteration1_catalog)"
   ]
  },
  {
   "cell_type": "code",
   "execution_count": 6,
   "metadata": {},
   "outputs": [
    {
     "data": {
      "text/plain": [
       "(                        time type  event_index  gamma_score   sta\n",
       " 0 2009-11-01 12:29:38.419900    p           -1    -1.000000  MSVF\n",
       " 1 2009-11-01 16:03:19.149900    p        31625     0.079182  MSVF\n",
       " 2 2009-11-01 20:23:03.249900    p        12394     0.068525  MSVF\n",
       " 3 2009-11-01 20:59:34.149900    p           -1    -1.000000  MSVF\n",
       " 4 2009-11-01 20:23:15.619900    s        12394     0.052664  MSVF,\n",
       " 749549)"
      ]
     },
     "execution_count": 6,
     "metadata": {},
     "output_type": "execute_result"
    }
   ],
   "source": [
    "iteration1_phasenettf_phase=pd.read_csv(\n",
    "        \"/Users/ziyixi/Library/CloudStorage/OneDrive-MichiganStateUniversity/Paper/PhaseNetTF_myturn/PhaseNet-TF-Figures/phasenettf/data/catalog/continious_associated_assignment.csv\",\n",
    "        skiprows=1,\n",
    "        names=[\n",
    "            \"id\",\n",
    "            \"date\",\n",
    "            \"time\",\n",
    "            \"amp\",\n",
    "            \"type\",\n",
    "            \"prob\",\n",
    "            \"event_index\",\n",
    "            \"gamma_score\",\n",
    "        ],\n",
    "        sep=r\"\\s+\",\n",
    "    )\n",
    "\n",
    "iteration1_phasenettf_phase[\"sta\"]=iteration1_phasenettf_phase[\"id\"].str.split(\".\").str[1]\n",
    "iteration1_phasenettf_phase[\"time\"]=pd.to_datetime(iteration1_phasenettf_phase[\"date\"]+\" \"+iteration1_phasenettf_phase[\"time\"])\n",
    "iteration1_phasenettf_phase=iteration1_phasenettf_phase.drop([\"date\",\"id\",\"amp\",\"prob\"],axis=1)\n",
    "iteration1_phasenettf_phase.head(),len(iteration1_phasenettf_phase)"
   ]
  },
  {
   "cell_type": "code",
   "execution_count": 7,
   "metadata": {},
   "outputs": [
    {
     "data": {
      "text/plain": [
       "(                         time type  event_index  gamma_score   sta\n",
       " 21 2009-11-04 20:43:54.029900    p        15715     0.083852  MSVF\n",
       " 70 2009-11-10 08:05:06.929900    p         6004     0.088009  MSVF\n",
       " 72 2009-11-10 08:17:57.669900    p        21695     0.113771  MSVF\n",
       " 76 2009-11-10 08:05:30.519900    s         6004     0.002691  MSVF\n",
       " 77 2009-11-10 08:18:55.549900    s        21695     0.108274  MSVF,\n",
       " 280844)"
      ]
     },
     "execution_count": 7,
     "metadata": {},
     "output_type": "execute_result"
    }
   ],
   "source": [
    "# select iteration1_relocation_phase from iteration1_phasenettf_phase with event_index in iteration1_relocation_catalog\n",
    "iteration1_relocation_catalog_event_index_set=set(iteration1_catalog[\"event_index\"])\n",
    "iteration1_relocation_phase=iteration1_phasenettf_phase[iteration1_phasenettf_phase[\"event_index\"].isin(iteration1_relocation_catalog_event_index_set)]\n",
    "iteration1_relocation_phase.head(),len(iteration1_relocation_phase)"
   ]
  },
  {
   "cell_type": "code",
   "execution_count": 8,
   "metadata": {},
   "outputs": [
    {
     "data": {
      "text/plain": [
       "(217254, 63590)"
      ]
     },
     "execution_count": 8,
     "metadata": {},
     "output_type": "execute_result"
    }
   ],
   "source": [
    "len(iteration1_relocation_phase[iteration1_relocation_phase.type==\"p\"]),len(iteration1_relocation_phase[iteration1_relocation_phase.type==\"s\"])"
   ]
  },
  {
   "cell_type": "code",
   "execution_count": 9,
   "metadata": {},
   "outputs": [
    {
     "data": {
      "text/plain": [
       "(   event_index   latitude   longitude       depth  \\\n",
       " 0           49 -24.055055 -178.753175  581.541092   \n",
       " 1           59 -22.996563 -175.655182   85.202101   \n",
       " 2           64 -23.101836 -178.642513  554.767645   \n",
       " 3           78 -21.863043 -175.590572  140.706452   \n",
       " 4           95 -20.365366 -177.123331  446.403303   \n",
       " \n",
       "                            time  \n",
       " 0 2010-09-05 06:20:43.693259008  \n",
       " 1 2010-02-03 07:50:12.698582784  \n",
       " 2 2010-07-21 13:36:11.897348096  \n",
       " 3 2010-02-07 15:23:13.122398720  \n",
       " 4 2010-04-16 07:59:40.670819840  ,\n",
       " 13799)"
      ]
     },
     "execution_count": 9,
     "metadata": {},
     "output_type": "execute_result"
    }
   ],
   "source": [
    "iteration2_catalog = pd.read_csv(\n",
    "        \"/Users/ziyixi/Library/CloudStorage/OneDrive-MichiganStateUniversity/Paper/PhaseNetTF_myturn/PhaseNet-TF-Figures/phasenettf/data/catalog/continious_semi.csv\",\n",
    "        usecols=[0, 1, 2, 3, 4],\n",
    "    )\n",
    "iteration2_catalog.rename(\n",
    "        columns={\n",
    "            \"id\": \"event_index\",\n",
    "        },\n",
    "        inplace=True,\n",
    "    )\n",
    "iteration2_catalog[\"time\"] = pd.to_datetime(iteration2_catalog[\"datetime\"])\n",
    "iteration2_catalog.drop(columns=[\"datetime\"], inplace=True)\n",
    "iteration2_catalog.head(),len(iteration2_catalog)"
   ]
  },
  {
   "cell_type": "code",
   "execution_count": 10,
   "metadata": {},
   "outputs": [
    {
     "data": {
      "text/plain": [
       "(                        time type  event_index  gamma_score   sta\n",
       " 0 2009-11-01 04:21:03.099900    p        25214     0.002465  MSVF\n",
       " 1 2009-11-01 08:07:02.399900    p           -1    -1.000000  MSVF\n",
       " 2 2009-11-01 12:29:38.529900    p           -1    -1.000000  MSVF\n",
       " 3 2009-11-01 12:57:23.319900    p           -1    -1.000000  MSVF\n",
       " 4 2009-11-01 16:03:19.029900    p        12931     0.077535  MSVF,\n",
       " 1293246)"
      ]
     },
     "execution_count": 10,
     "metadata": {},
     "output_type": "execute_result"
    }
   ],
   "source": [
    "iteration2_phasenettf_phase=pd.read_csv(\n",
    "        \"/Users/ziyixi/Library/CloudStorage/OneDrive-MichiganStateUniversity/Paper/PhaseNetTF_myturn/PhaseNet-TF-Figures/phasenettf/data/catalog/semi-v1.assignment.csv\",\n",
    "        skiprows=1,\n",
    "        names=[\n",
    "            \"id\",\n",
    "            \"date\",\n",
    "            \"time\",\n",
    "            \"amp\",\n",
    "            \"type\",\n",
    "            \"prob\",\n",
    "            \"event_index\",\n",
    "            \"gamma_score\",\n",
    "        ],\n",
    "        sep=r\"\\s+\",\n",
    "    )\n",
    "\n",
    "iteration2_phasenettf_phase[\"sta\"]=iteration2_phasenettf_phase[\"id\"].str.split(\".\").str[1]\n",
    "iteration2_phasenettf_phase[\"time\"]=pd.to_datetime(iteration2_phasenettf_phase[\"date\"]+\" \"+iteration2_phasenettf_phase[\"time\"])\n",
    "iteration2_phasenettf_phase=iteration2_phasenettf_phase.drop([\"date\",\"id\",\"amp\",\"prob\"],axis=1)\n",
    "iteration2_phasenettf_phase.head(),len(iteration2_phasenettf_phase)"
   ]
  },
  {
   "cell_type": "code",
   "execution_count": 11,
   "metadata": {},
   "outputs": [
    {
     "data": {
      "text/plain": [
       "(                          time type  event_index  gamma_score   sta\n",
       " 62  2009-11-04 20:43:53.969900    p        98879     0.005614  MSVF\n",
       " 81  2009-11-06 16:32:12.919900    p        79255     0.071732  MSVF\n",
       " 112 2009-11-08 16:39:36.679900    p        98419     0.111880  MSVF\n",
       " 163 2009-11-10 08:05:07.049900    p        71320     0.095103  MSVF\n",
       " 165 2009-11-10 08:17:57.599900    p        14608     0.114541  MSVF,\n",
       " 422840)"
      ]
     },
     "execution_count": 11,
     "metadata": {},
     "output_type": "execute_result"
    }
   ],
   "source": [
    "iteration2_relocation_catalog_event_index_set=set(iteration2_catalog[\"event_index\"])\n",
    "iteration2_relocation_phase=iteration2_phasenettf_phase[iteration2_phasenettf_phase[\"event_index\"].isin(iteration2_relocation_catalog_event_index_set)]\n",
    "iteration2_relocation_phase.head(),len(iteration2_relocation_phase)"
   ]
  },
  {
   "cell_type": "code",
   "execution_count": 12,
   "metadata": {},
   "outputs": [
    {
     "data": {
      "text/plain": [
       "(343247, 79593)"
      ]
     },
     "execution_count": 12,
     "metadata": {},
     "output_type": "execute_result"
    }
   ],
   "source": [
    "len(iteration2_relocation_phase[iteration2_relocation_phase.type==\"p\"]),len(iteration2_relocation_phase[iteration2_relocation_phase.type==\"s\"])"
   ]
  },
  {
   "cell_type": "code",
   "execution_count": 13,
   "metadata": {},
   "outputs": [
    {
     "data": {
      "text/plain": [
       "(   event_index   latitude   longitude       depth  \\\n",
       " 0          188 -16.201434 -172.365634  106.331183   \n",
       " 1          210 -18.773165 -175.619987  214.956622   \n",
       " 2          221 -20.299335 -174.154085  129.158232   \n",
       " 3          251 -16.156015 -172.249285   93.169231   \n",
       " 4          258 -18.484624 -174.527434  209.984489   \n",
       " \n",
       "                            time  \n",
       " 0 2009-11-20 01:53:42.226608896  \n",
       " 1 2009-11-19 18:36:05.594294272  \n",
       " 2 2009-11-30 08:20:48.752517632  \n",
       " 3 2009-11-23 21:30:12.039857920  \n",
       " 4 2009-11-24 05:30:48.569999872  ,\n",
       " 13406)"
      ]
     },
     "execution_count": 13,
     "metadata": {},
     "output_type": "execute_result"
    }
   ],
   "source": [
    "iteration3_catalog = pd.read_csv(\n",
    "        \"/Users/ziyixi/Library/CloudStorage/OneDrive-MichiganStateUniversity/Paper/PhaseNetTF_myturn/PhaseNet-TF-Figures/phasenettf/data/catalog/continuous_v3.csv\",\n",
    "        usecols=[0, 1, 2, 3, 4],\n",
    "    )\n",
    "iteration3_catalog.rename(\n",
    "        columns={\n",
    "            \"id\": \"event_index\",\n",
    "        },\n",
    "        inplace=True,\n",
    "    )\n",
    "iteration3_catalog[\"time\"] = pd.to_datetime(iteration3_catalog[\"datetime\"])\n",
    "iteration3_catalog.drop(columns=[\"datetime\"], inplace=True)\n",
    "iteration3_catalog.head(),len(iteration3_catalog)"
   ]
  },
  {
   "cell_type": "code",
   "execution_count": 14,
   "metadata": {},
   "outputs": [
    {
     "data": {
      "text/plain": [
       "(                        time type  event_index  gamma_score   sta\n",
       " 0 2009-11-01 04:21:04.899900    p         1347     0.001252  MSVF\n",
       " 1 2009-11-30 05:36:21.775600    p         3667     0.000773  C09W\n",
       " 2 2009-11-30 05:44:57.775600    p         3670     0.000773  C09W\n",
       " 3 2009-11-30 05:36:45.875600    s         3667     0.000142  C09W\n",
       " 4 2009-11-30 09:03:03.445600    p         5329     0.000141  C09W,\n",
       " 2080940)"
      ]
     },
     "execution_count": 14,
     "metadata": {},
     "output_type": "execute_result"
    }
   ],
   "source": [
    "iteration3_phasenettf_phase=pd.read_csv(\n",
    "        \"/Users/ziyixi/Library/CloudStorage/OneDrive-MichiganStateUniversity/Paper/PhaseNetTF_myturn/PhaseNet-TF-Figures/phasenettf/data/catalog/semi-iteration3_picks.csv\",\n",
    "        skiprows=1,\n",
    "        names=[\n",
    "            \"id\",\n",
    "            \"date\",\n",
    "            \"time\",\n",
    "            \"amp\",\n",
    "            \"type\",\n",
    "            \"prob\",\n",
    "            \"event_index\",\n",
    "            \"gamma_score\",\n",
    "        ],\n",
    "        sep=r\"\\s+\",\n",
    "    )\n",
    "\n",
    "iteration3_phasenettf_phase[\"sta\"]=iteration3_phasenettf_phase[\"id\"].str.split(\".\").str[1]\n",
    "iteration3_phasenettf_phase[\"time\"]=pd.to_datetime(iteration3_phasenettf_phase[\"date\"]+\" \"+iteration3_phasenettf_phase[\"time\"])\n",
    "iteration3_phasenettf_phase=iteration3_phasenettf_phase.drop([\"date\",\"id\",\"amp\",\"prob\"],axis=1)\n",
    "iteration3_phasenettf_phase.head(),len(iteration3_phasenettf_phase)"
   ]
  },
  {
   "cell_type": "code",
   "execution_count": 15,
   "metadata": {},
   "outputs": [
    {
     "data": {
      "text/plain": [
       "(                         time type  event_index  gamma_score   sta\n",
       " 1  2009-11-30 05:36:21.775600    p         3667     0.000773  C09W\n",
       " 3  2009-11-30 05:36:45.875600    s         3667     0.000142  C09W\n",
       " 10 2009-11-30 13:22:19.465600    p         2816     0.000107  C09W\n",
       " 14 2009-11-30 13:22:44.345600    s         2816     0.000412  C09W\n",
       " 18 2009-11-30 01:14:11.345600    s         1746     0.093520  C09W,\n",
       " 451627)"
      ]
     },
     "execution_count": 15,
     "metadata": {},
     "output_type": "execute_result"
    }
   ],
   "source": [
    "iteration3_relocation_catalog_event_index_set=set(iteration3_catalog[\"event_index\"])\n",
    "iteration3_relocation_phase=iteration3_phasenettf_phase[iteration3_phasenettf_phase[\"event_index\"].isin(iteration3_relocation_catalog_event_index_set)]\n",
    "iteration3_relocation_phase.head(),len(iteration3_relocation_phase)"
   ]
  },
  {
   "cell_type": "code",
   "execution_count": 16,
   "metadata": {},
   "outputs": [
    {
     "data": {
      "text/plain": [
       "(372774, 78853)"
      ]
     },
     "execution_count": 16,
     "metadata": {},
     "output_type": "execute_result"
    }
   ],
   "source": [
    "len(iteration3_relocation_phase[iteration3_relocation_phase.type==\"p\"]),len(iteration3_relocation_phase[iteration3_relocation_phase.type==\"s\"])"
   ]
  },
  {
   "cell_type": "markdown",
   "metadata": {},
   "source": [
    "# Analysis"
   ]
  },
  {
   "cell_type": "code",
   "execution_count": 17,
   "metadata": {},
   "outputs": [
    {
     "data": {
      "text/html": [
       "<div>\n",
       "<style scoped>\n",
       "    .dataframe tbody tr th:only-of-type {\n",
       "        vertical-align: middle;\n",
       "    }\n",
       "\n",
       "    .dataframe tbody tr th {\n",
       "        vertical-align: top;\n",
       "    }\n",
       "\n",
       "    .dataframe thead th {\n",
       "        text-align: right;\n",
       "    }\n",
       "</style>\n",
       "<table border=\"1\" class=\"dataframe\">\n",
       "  <thead>\n",
       "    <tr style=\"text-align: right;\">\n",
       "      <th></th>\n",
       "      <th>mp_event_index</th>\n",
       "      <th>sta</th>\n",
       "      <th>type</th>\n",
       "      <th>time</th>\n",
       "    </tr>\n",
       "  </thead>\n",
       "  <tbody>\n",
       "    <tr>\n",
       "      <th>0</th>\n",
       "      <td>11_52111</td>\n",
       "      <td>A01</td>\n",
       "      <td>p</td>\n",
       "      <td>2009-12-02 01:14:41.317870</td>\n",
       "    </tr>\n",
       "    <tr>\n",
       "      <th>1</th>\n",
       "      <td>11_52111</td>\n",
       "      <td>A02W</td>\n",
       "      <td>p</td>\n",
       "      <td>2009-12-02 01:14:42.457750</td>\n",
       "    </tr>\n",
       "    <tr>\n",
       "      <th>2</th>\n",
       "      <td>11_52111</td>\n",
       "      <td>A03</td>\n",
       "      <td>p</td>\n",
       "      <td>2009-12-02 01:14:43.547000</td>\n",
       "    </tr>\n",
       "    <tr>\n",
       "      <th>3</th>\n",
       "      <td>11_52111</td>\n",
       "      <td>A05</td>\n",
       "      <td>p</td>\n",
       "      <td>2009-12-02 01:14:47.038000</td>\n",
       "    </tr>\n",
       "    <tr>\n",
       "      <th>4</th>\n",
       "      <td>11_52111</td>\n",
       "      <td>A06W</td>\n",
       "      <td>p</td>\n",
       "      <td>2009-12-02 01:14:48.857230</td>\n",
       "    </tr>\n",
       "  </tbody>\n",
       "</table>\n",
       "</div>"
      ],
      "text/plain": [
       "  mp_event_index   sta type                       time\n",
       "0       11_52111   A01    p 2009-12-02 01:14:41.317870\n",
       "1       11_52111  A02W    p 2009-12-02 01:14:42.457750\n",
       "2       11_52111   A03    p 2009-12-02 01:14:43.547000\n",
       "3       11_52111   A05    p 2009-12-02 01:14:47.038000\n",
       "4       11_52111  A06W    p 2009-12-02 01:14:48.857230"
      ]
     },
     "execution_count": 17,
     "metadata": {},
     "output_type": "execute_result"
    }
   ],
   "source": [
    "reference_phase.head()"
   ]
  },
  {
   "cell_type": "code",
   "execution_count": 18,
   "metadata": {},
   "outputs": [
    {
     "data": {
      "text/html": [
       "<div>\n",
       "<style scoped>\n",
       "    .dataframe tbody tr th:only-of-type {\n",
       "        vertical-align: middle;\n",
       "    }\n",
       "\n",
       "    .dataframe tbody tr th {\n",
       "        vertical-align: top;\n",
       "    }\n",
       "\n",
       "    .dataframe thead th {\n",
       "        text-align: right;\n",
       "    }\n",
       "</style>\n",
       "<table border=\"1\" class=\"dataframe\">\n",
       "  <thead>\n",
       "    <tr style=\"text-align: right;\">\n",
       "      <th></th>\n",
       "      <th>time</th>\n",
       "      <th>type</th>\n",
       "      <th>event_index</th>\n",
       "      <th>gamma_score</th>\n",
       "      <th>sta</th>\n",
       "    </tr>\n",
       "  </thead>\n",
       "  <tbody>\n",
       "    <tr>\n",
       "      <th>21</th>\n",
       "      <td>2009-11-04 20:43:54.029900</td>\n",
       "      <td>p</td>\n",
       "      <td>15715</td>\n",
       "      <td>0.083852</td>\n",
       "      <td>MSVF</td>\n",
       "    </tr>\n",
       "    <tr>\n",
       "      <th>70</th>\n",
       "      <td>2009-11-10 08:05:06.929900</td>\n",
       "      <td>p</td>\n",
       "      <td>6004</td>\n",
       "      <td>0.088009</td>\n",
       "      <td>MSVF</td>\n",
       "    </tr>\n",
       "    <tr>\n",
       "      <th>72</th>\n",
       "      <td>2009-11-10 08:17:57.669900</td>\n",
       "      <td>p</td>\n",
       "      <td>21695</td>\n",
       "      <td>0.113771</td>\n",
       "      <td>MSVF</td>\n",
       "    </tr>\n",
       "    <tr>\n",
       "      <th>76</th>\n",
       "      <td>2009-11-10 08:05:30.519900</td>\n",
       "      <td>s</td>\n",
       "      <td>6004</td>\n",
       "      <td>0.002691</td>\n",
       "      <td>MSVF</td>\n",
       "    </tr>\n",
       "    <tr>\n",
       "      <th>77</th>\n",
       "      <td>2009-11-10 08:18:55.549900</td>\n",
       "      <td>s</td>\n",
       "      <td>21695</td>\n",
       "      <td>0.108274</td>\n",
       "      <td>MSVF</td>\n",
       "    </tr>\n",
       "  </tbody>\n",
       "</table>\n",
       "</div>"
      ],
      "text/plain": [
       "                         time type  event_index  gamma_score   sta\n",
       "21 2009-11-04 20:43:54.029900    p        15715     0.083852  MSVF\n",
       "70 2009-11-10 08:05:06.929900    p         6004     0.088009  MSVF\n",
       "72 2009-11-10 08:17:57.669900    p        21695     0.113771  MSVF\n",
       "76 2009-11-10 08:05:30.519900    s         6004     0.002691  MSVF\n",
       "77 2009-11-10 08:18:55.549900    s        21695     0.108274  MSVF"
      ]
     },
     "execution_count": 18,
     "metadata": {},
     "output_type": "execute_result"
    }
   ],
   "source": [
    "iteration1_relocation_phase.head()"
   ]
  },
  {
   "cell_type": "code",
   "execution_count": 19,
   "metadata": {},
   "outputs": [
    {
     "data": {
      "text/html": [
       "<div>\n",
       "<style scoped>\n",
       "    .dataframe tbody tr th:only-of-type {\n",
       "        vertical-align: middle;\n",
       "    }\n",
       "\n",
       "    .dataframe tbody tr th {\n",
       "        vertical-align: top;\n",
       "    }\n",
       "\n",
       "    .dataframe thead th {\n",
       "        text-align: right;\n",
       "    }\n",
       "</style>\n",
       "<table border=\"1\" class=\"dataframe\">\n",
       "  <thead>\n",
       "    <tr style=\"text-align: right;\">\n",
       "      <th></th>\n",
       "      <th>time</th>\n",
       "      <th>type</th>\n",
       "      <th>event_index</th>\n",
       "      <th>gamma_score</th>\n",
       "      <th>sta</th>\n",
       "    </tr>\n",
       "  </thead>\n",
       "  <tbody>\n",
       "    <tr>\n",
       "      <th>1</th>\n",
       "      <td>2009-11-30 05:36:21.775600</td>\n",
       "      <td>p</td>\n",
       "      <td>3667</td>\n",
       "      <td>0.000773</td>\n",
       "      <td>C09W</td>\n",
       "    </tr>\n",
       "    <tr>\n",
       "      <th>3</th>\n",
       "      <td>2009-11-30 05:36:45.875600</td>\n",
       "      <td>s</td>\n",
       "      <td>3667</td>\n",
       "      <td>0.000142</td>\n",
       "      <td>C09W</td>\n",
       "    </tr>\n",
       "    <tr>\n",
       "      <th>10</th>\n",
       "      <td>2009-11-30 13:22:19.465600</td>\n",
       "      <td>p</td>\n",
       "      <td>2816</td>\n",
       "      <td>0.000107</td>\n",
       "      <td>C09W</td>\n",
       "    </tr>\n",
       "    <tr>\n",
       "      <th>14</th>\n",
       "      <td>2009-11-30 13:22:44.345600</td>\n",
       "      <td>s</td>\n",
       "      <td>2816</td>\n",
       "      <td>0.000412</td>\n",
       "      <td>C09W</td>\n",
       "    </tr>\n",
       "    <tr>\n",
       "      <th>18</th>\n",
       "      <td>2009-11-30 01:14:11.345600</td>\n",
       "      <td>s</td>\n",
       "      <td>1746</td>\n",
       "      <td>0.093520</td>\n",
       "      <td>C09W</td>\n",
       "    </tr>\n",
       "  </tbody>\n",
       "</table>\n",
       "</div>"
      ],
      "text/plain": [
       "                         time type  event_index  gamma_score   sta\n",
       "1  2009-11-30 05:36:21.775600    p         3667     0.000773  C09W\n",
       "3  2009-11-30 05:36:45.875600    s         3667     0.000142  C09W\n",
       "10 2009-11-30 13:22:19.465600    p         2816     0.000107  C09W\n",
       "14 2009-11-30 13:22:44.345600    s         2816     0.000412  C09W\n",
       "18 2009-11-30 01:14:11.345600    s         1746     0.093520  C09W"
      ]
     },
     "execution_count": 19,
     "metadata": {},
     "output_type": "execute_result"
    }
   ],
   "source": [
    "iteration3_relocation_phase.head()"
   ]
  },
  {
   "cell_type": "code",
   "execution_count": 30,
   "metadata": {},
   "outputs": [
    {
     "data": {
      "text/html": [
       "<div>\n",
       "<style scoped>\n",
       "    .dataframe tbody tr th:only-of-type {\n",
       "        vertical-align: middle;\n",
       "    }\n",
       "\n",
       "    .dataframe tbody tr th {\n",
       "        vertical-align: top;\n",
       "    }\n",
       "\n",
       "    .dataframe thead th {\n",
       "        text-align: right;\n",
       "    }\n",
       "</style>\n",
       "<table border=\"1\" class=\"dataframe\">\n",
       "  <thead>\n",
       "    <tr style=\"text-align: right;\">\n",
       "      <th></th>\n",
       "      <th>mp_event_index</th>\n",
       "      <th>sta</th>\n",
       "      <th>type_x_x</th>\n",
       "      <th>time_x</th>\n",
       "      <th>type_y_x</th>\n",
       "      <th>event_index_x</th>\n",
       "      <th>gamma_score_x</th>\n",
       "      <th>type_x_y</th>\n",
       "      <th>time_y</th>\n",
       "      <th>type_y_y</th>\n",
       "      <th>event_index_y</th>\n",
       "      <th>gamma_score_y</th>\n",
       "    </tr>\n",
       "  </thead>\n",
       "  <tbody>\n",
       "    <tr>\n",
       "      <th>0</th>\n",
       "      <td>1_51844</td>\n",
       "      <td>B03</td>\n",
       "      <td>s</td>\n",
       "      <td>2009-12-01 04:08:48.357460000</td>\n",
       "      <td>s</td>\n",
       "      <td>3902.0</td>\n",
       "      <td>0.000375</td>\n",
       "      <td>s</td>\n",
       "      <td>2009-12-01 04:08:48.357460000</td>\n",
       "      <td>NaN</td>\n",
       "      <td>NaN</td>\n",
       "      <td>NaN</td>\n",
       "    </tr>\n",
       "    <tr>\n",
       "      <th>1</th>\n",
       "      <td>1_51864</td>\n",
       "      <td>A14W</td>\n",
       "      <td>s</td>\n",
       "      <td>2009-12-01 23:24:01.470030000</td>\n",
       "      <td>s</td>\n",
       "      <td>34487.0</td>\n",
       "      <td>0.027063</td>\n",
       "      <td>s</td>\n",
       "      <td>2009-12-01 23:24:01.470030000</td>\n",
       "      <td>NaN</td>\n",
       "      <td>NaN</td>\n",
       "      <td>NaN</td>\n",
       "    </tr>\n",
       "    <tr>\n",
       "      <th>2</th>\n",
       "      <td>1_51866</td>\n",
       "      <td>F02W</td>\n",
       "      <td>s</td>\n",
       "      <td>2009-12-02 06:32:40.700790000</td>\n",
       "      <td>s</td>\n",
       "      <td>39624.0</td>\n",
       "      <td>0.096536</td>\n",
       "      <td>s</td>\n",
       "      <td>2009-12-02 06:32:40.700790000</td>\n",
       "      <td>NaN</td>\n",
       "      <td>NaN</td>\n",
       "      <td>NaN</td>\n",
       "    </tr>\n",
       "    <tr>\n",
       "      <th>3</th>\n",
       "      <td>1_51870</td>\n",
       "      <td>VABL</td>\n",
       "      <td>s</td>\n",
       "      <td>2009-12-02 13:56:56.876320000</td>\n",
       "      <td>s</td>\n",
       "      <td>37929.0</td>\n",
       "      <td>0.036145</td>\n",
       "      <td>s</td>\n",
       "      <td>2009-12-02 13:56:56.876320000</td>\n",
       "      <td>NaN</td>\n",
       "      <td>NaN</td>\n",
       "      <td>NaN</td>\n",
       "    </tr>\n",
       "    <tr>\n",
       "      <th>4</th>\n",
       "      <td>1_51874</td>\n",
       "      <td>CICA</td>\n",
       "      <td>s</td>\n",
       "      <td>2009-12-02 21:03:51.586410000</td>\n",
       "      <td>s</td>\n",
       "      <td>46082.0</td>\n",
       "      <td>0.131772</td>\n",
       "      <td>s</td>\n",
       "      <td>2009-12-02 21:03:51.586410000</td>\n",
       "      <td>NaN</td>\n",
       "      <td>NaN</td>\n",
       "      <td>NaN</td>\n",
       "    </tr>\n",
       "    <tr>\n",
       "      <th>5</th>\n",
       "      <td>1_51874</td>\n",
       "      <td>B09W</td>\n",
       "      <td>s</td>\n",
       "      <td>2009-12-02 21:04:04.059550000</td>\n",
       "      <td>s</td>\n",
       "      <td>46082.0</td>\n",
       "      <td>0.131727</td>\n",
       "      <td>s</td>\n",
       "      <td>2009-12-02 21:04:04.059550000</td>\n",
       "      <td>NaN</td>\n",
       "      <td>NaN</td>\n",
       "      <td>NaN</td>\n",
       "    </tr>\n",
       "    <tr>\n",
       "      <th>6</th>\n",
       "      <td>1_51874</td>\n",
       "      <td>A14W</td>\n",
       "      <td>s</td>\n",
       "      <td>2009-12-02 21:04:06.236030000</td>\n",
       "      <td>s</td>\n",
       "      <td>46082.0</td>\n",
       "      <td>0.129078</td>\n",
       "      <td>s</td>\n",
       "      <td>2009-12-02 21:04:06.236030000</td>\n",
       "      <td>NaN</td>\n",
       "      <td>NaN</td>\n",
       "      <td>NaN</td>\n",
       "    </tr>\n",
       "    <tr>\n",
       "      <th>7</th>\n",
       "      <td>1_51874</td>\n",
       "      <td>C10W</td>\n",
       "      <td>s</td>\n",
       "      <td>2009-12-02 21:04:12.720700000</td>\n",
       "      <td>s</td>\n",
       "      <td>46082.0</td>\n",
       "      <td>0.140003</td>\n",
       "      <td>s</td>\n",
       "      <td>2009-12-02 21:04:12.720700000</td>\n",
       "      <td>NaN</td>\n",
       "      <td>NaN</td>\n",
       "      <td>NaN</td>\n",
       "    </tr>\n",
       "    <tr>\n",
       "      <th>8</th>\n",
       "      <td>1_51874</td>\n",
       "      <td>B02</td>\n",
       "      <td>s</td>\n",
       "      <td>2009-12-02 21:04:13.044220000</td>\n",
       "      <td>s</td>\n",
       "      <td>46082.0</td>\n",
       "      <td>0.086811</td>\n",
       "      <td>s</td>\n",
       "      <td>2009-12-02 21:04:13.044220000</td>\n",
       "      <td>NaN</td>\n",
       "      <td>NaN</td>\n",
       "      <td>NaN</td>\n",
       "    </tr>\n",
       "    <tr>\n",
       "      <th>9</th>\n",
       "      <td>1_51874</td>\n",
       "      <td>C03W</td>\n",
       "      <td>s</td>\n",
       "      <td>2009-12-02 21:04:17.063630000</td>\n",
       "      <td>s</td>\n",
       "      <td>46082.0</td>\n",
       "      <td>0.056349</td>\n",
       "      <td>s</td>\n",
       "      <td>2009-12-02 21:04:17.063630000</td>\n",
       "      <td>NaN</td>\n",
       "      <td>NaN</td>\n",
       "      <td>NaN</td>\n",
       "    </tr>\n",
       "    <tr>\n",
       "      <th>10</th>\n",
       "      <td>1_51874</td>\n",
       "      <td>A07</td>\n",
       "      <td>s</td>\n",
       "      <td>2009-12-02 21:04:18.141650000</td>\n",
       "      <td>s</td>\n",
       "      <td>46082.0</td>\n",
       "      <td>0.117892</td>\n",
       "      <td>s</td>\n",
       "      <td>2009-12-02 21:04:18.141650000</td>\n",
       "      <td>NaN</td>\n",
       "      <td>NaN</td>\n",
       "      <td>NaN</td>\n",
       "    </tr>\n",
       "    <tr>\n",
       "      <th>11</th>\n",
       "      <td>1_51874</td>\n",
       "      <td>FONI</td>\n",
       "      <td>s</td>\n",
       "      <td>2009-12-02 21:04:20.523540000</td>\n",
       "      <td>s</td>\n",
       "      <td>46082.0</td>\n",
       "      <td>0.133849</td>\n",
       "      <td>s</td>\n",
       "      <td>2009-12-02 21:04:20.523540000</td>\n",
       "      <td>NaN</td>\n",
       "      <td>NaN</td>\n",
       "      <td>NaN</td>\n",
       "    </tr>\n",
       "    <tr>\n",
       "      <th>12</th>\n",
       "      <td>1_51874</td>\n",
       "      <td>A02W</td>\n",
       "      <td>s</td>\n",
       "      <td>2009-12-02 21:04:21.942320000</td>\n",
       "      <td>s</td>\n",
       "      <td>46082.0</td>\n",
       "      <td>0.082731</td>\n",
       "      <td>s</td>\n",
       "      <td>2009-12-02 21:04:21.942320000</td>\n",
       "      <td>NaN</td>\n",
       "      <td>NaN</td>\n",
       "      <td>NaN</td>\n",
       "    </tr>\n",
       "    <tr>\n",
       "      <th>13</th>\n",
       "      <td>1_51877</td>\n",
       "      <td>FONI</td>\n",
       "      <td>s</td>\n",
       "      <td>2009-12-02 22:29:37.616653369</td>\n",
       "      <td>s</td>\n",
       "      <td>32886.0</td>\n",
       "      <td>0.038244</td>\n",
       "      <td>s</td>\n",
       "      <td>2009-12-02 22:29:37.616653369</td>\n",
       "      <td>NaN</td>\n",
       "      <td>NaN</td>\n",
       "      <td>NaN</td>\n",
       "    </tr>\n",
       "    <tr>\n",
       "      <th>14</th>\n",
       "      <td>1_51877</td>\n",
       "      <td>TNGA</td>\n",
       "      <td>s</td>\n",
       "      <td>2009-12-02 22:29:42.530273564</td>\n",
       "      <td>s</td>\n",
       "      <td>32886.0</td>\n",
       "      <td>0.104311</td>\n",
       "      <td>s</td>\n",
       "      <td>2009-12-02 22:29:42.530273564</td>\n",
       "      <td>NaN</td>\n",
       "      <td>NaN</td>\n",
       "      <td>NaN</td>\n",
       "    </tr>\n",
       "    <tr>\n",
       "      <th>15</th>\n",
       "      <td>1_51877</td>\n",
       "      <td>PNGI</td>\n",
       "      <td>s</td>\n",
       "      <td>2009-12-02 22:29:44.296360546</td>\n",
       "      <td>s</td>\n",
       "      <td>32886.0</td>\n",
       "      <td>0.027337</td>\n",
       "      <td>s</td>\n",
       "      <td>2009-12-02 22:29:44.296360546</td>\n",
       "      <td>NaN</td>\n",
       "      <td>NaN</td>\n",
       "      <td>NaN</td>\n",
       "    </tr>\n",
       "    <tr>\n",
       "      <th>16</th>\n",
       "      <td>1_51877</td>\n",
       "      <td>VAVP</td>\n",
       "      <td>s</td>\n",
       "      <td>2009-12-02 22:29:45.711140000</td>\n",
       "      <td>s</td>\n",
       "      <td>32886.0</td>\n",
       "      <td>0.065686</td>\n",
       "      <td>s</td>\n",
       "      <td>2009-12-02 22:29:45.711140000</td>\n",
       "      <td>NaN</td>\n",
       "      <td>NaN</td>\n",
       "      <td>NaN</td>\n",
       "    </tr>\n",
       "    <tr>\n",
       "      <th>17</th>\n",
       "      <td>1_51877</td>\n",
       "      <td>EUAP</td>\n",
       "      <td>s</td>\n",
       "      <td>2009-12-02 22:29:46.059739404</td>\n",
       "      <td>s</td>\n",
       "      <td>32886.0</td>\n",
       "      <td>0.059626</td>\n",
       "      <td>s</td>\n",
       "      <td>2009-12-02 22:29:46.059739404</td>\n",
       "      <td>NaN</td>\n",
       "      <td>NaN</td>\n",
       "      <td>NaN</td>\n",
       "    </tr>\n",
       "    <tr>\n",
       "      <th>18</th>\n",
       "      <td>1_51877</td>\n",
       "      <td>F02W</td>\n",
       "      <td>s</td>\n",
       "      <td>2009-12-02 22:29:47.731240000</td>\n",
       "      <td>s</td>\n",
       "      <td>32886.0</td>\n",
       "      <td>0.016269</td>\n",
       "      <td>s</td>\n",
       "      <td>2009-12-02 22:29:47.731240000</td>\n",
       "      <td>NaN</td>\n",
       "      <td>NaN</td>\n",
       "      <td>NaN</td>\n",
       "    </tr>\n",
       "    <tr>\n",
       "      <th>19</th>\n",
       "      <td>1_51883</td>\n",
       "      <td>N02W</td>\n",
       "      <td>s</td>\n",
       "      <td>2009-12-03 16:04:14.441780000</td>\n",
       "      <td>s</td>\n",
       "      <td>45894.0</td>\n",
       "      <td>0.192506</td>\n",
       "      <td>s</td>\n",
       "      <td>2009-12-03 16:04:14.441780000</td>\n",
       "      <td>NaN</td>\n",
       "      <td>NaN</td>\n",
       "      <td>NaN</td>\n",
       "    </tr>\n",
       "  </tbody>\n",
       "</table>\n",
       "</div>"
      ],
      "text/plain": [
       "   mp_event_index   sta type_x_x                        time_x type_y_x  \\\n",
       "0         1_51844   B03        s 2009-12-01 04:08:48.357460000        s   \n",
       "1         1_51864  A14W        s 2009-12-01 23:24:01.470030000        s   \n",
       "2         1_51866  F02W        s 2009-12-02 06:32:40.700790000        s   \n",
       "3         1_51870  VABL        s 2009-12-02 13:56:56.876320000        s   \n",
       "4         1_51874  CICA        s 2009-12-02 21:03:51.586410000        s   \n",
       "5         1_51874  B09W        s 2009-12-02 21:04:04.059550000        s   \n",
       "6         1_51874  A14W        s 2009-12-02 21:04:06.236030000        s   \n",
       "7         1_51874  C10W        s 2009-12-02 21:04:12.720700000        s   \n",
       "8         1_51874   B02        s 2009-12-02 21:04:13.044220000        s   \n",
       "9         1_51874  C03W        s 2009-12-02 21:04:17.063630000        s   \n",
       "10        1_51874   A07        s 2009-12-02 21:04:18.141650000        s   \n",
       "11        1_51874  FONI        s 2009-12-02 21:04:20.523540000        s   \n",
       "12        1_51874  A02W        s 2009-12-02 21:04:21.942320000        s   \n",
       "13        1_51877  FONI        s 2009-12-02 22:29:37.616653369        s   \n",
       "14        1_51877  TNGA        s 2009-12-02 22:29:42.530273564        s   \n",
       "15        1_51877  PNGI        s 2009-12-02 22:29:44.296360546        s   \n",
       "16        1_51877  VAVP        s 2009-12-02 22:29:45.711140000        s   \n",
       "17        1_51877  EUAP        s 2009-12-02 22:29:46.059739404        s   \n",
       "18        1_51877  F02W        s 2009-12-02 22:29:47.731240000        s   \n",
       "19        1_51883  N02W        s 2009-12-03 16:04:14.441780000        s   \n",
       "\n",
       "    event_index_x  gamma_score_x type_x_y                        time_y  \\\n",
       "0          3902.0       0.000375        s 2009-12-01 04:08:48.357460000   \n",
       "1         34487.0       0.027063        s 2009-12-01 23:24:01.470030000   \n",
       "2         39624.0       0.096536        s 2009-12-02 06:32:40.700790000   \n",
       "3         37929.0       0.036145        s 2009-12-02 13:56:56.876320000   \n",
       "4         46082.0       0.131772        s 2009-12-02 21:03:51.586410000   \n",
       "5         46082.0       0.131727        s 2009-12-02 21:04:04.059550000   \n",
       "6         46082.0       0.129078        s 2009-12-02 21:04:06.236030000   \n",
       "7         46082.0       0.140003        s 2009-12-02 21:04:12.720700000   \n",
       "8         46082.0       0.086811        s 2009-12-02 21:04:13.044220000   \n",
       "9         46082.0       0.056349        s 2009-12-02 21:04:17.063630000   \n",
       "10        46082.0       0.117892        s 2009-12-02 21:04:18.141650000   \n",
       "11        46082.0       0.133849        s 2009-12-02 21:04:20.523540000   \n",
       "12        46082.0       0.082731        s 2009-12-02 21:04:21.942320000   \n",
       "13        32886.0       0.038244        s 2009-12-02 22:29:37.616653369   \n",
       "14        32886.0       0.104311        s 2009-12-02 22:29:42.530273564   \n",
       "15        32886.0       0.027337        s 2009-12-02 22:29:44.296360546   \n",
       "16        32886.0       0.065686        s 2009-12-02 22:29:45.711140000   \n",
       "17        32886.0       0.059626        s 2009-12-02 22:29:46.059739404   \n",
       "18        32886.0       0.016269        s 2009-12-02 22:29:47.731240000   \n",
       "19        45894.0       0.192506        s 2009-12-03 16:04:14.441780000   \n",
       "\n",
       "   type_y_y  event_index_y  gamma_score_y  \n",
       "0       NaN            NaN            NaN  \n",
       "1       NaN            NaN            NaN  \n",
       "2       NaN            NaN            NaN  \n",
       "3       NaN            NaN            NaN  \n",
       "4       NaN            NaN            NaN  \n",
       "5       NaN            NaN            NaN  \n",
       "6       NaN            NaN            NaN  \n",
       "7       NaN            NaN            NaN  \n",
       "8       NaN            NaN            NaN  \n",
       "9       NaN            NaN            NaN  \n",
       "10      NaN            NaN            NaN  \n",
       "11      NaN            NaN            NaN  \n",
       "12      NaN            NaN            NaN  \n",
       "13      NaN            NaN            NaN  \n",
       "14      NaN            NaN            NaN  \n",
       "15      NaN            NaN            NaN  \n",
       "16      NaN            NaN            NaN  \n",
       "17      NaN            NaN            NaN  \n",
       "18      NaN            NaN            NaN  \n",
       "19      NaN            NaN            NaN  "
      ]
     },
     "execution_count": 30,
     "metadata": {},
     "output_type": "execute_result"
    }
   ],
   "source": [
    "ref=reference_phase[reference_phase.type==\"s\"]\n",
    "iter1=iteration1_relocation_phase[iteration1_relocation_phase.type==\"s\"]\n",
    "iter3=iteration3_relocation_phase[iteration3_relocation_phase.type==\"s\"]\n",
    "\n",
    "ref=ref.sort_values(by=[\"time\",\"sta\"])\n",
    "iter1=iter1.sort_values(by=[\"time\",\"sta\"])\n",
    "iter3=iter3.sort_values(by=[\"time\",\"sta\"])\n",
    "\n",
    "merged1=pd.merge_asof(ref,iter1,on=\"time\",by=\"sta\",direction=\"nearest\",tolerance=pd.Timedelta(\"1s\"))\n",
    "merged3=pd.merge_asof(ref,iter3,on=\"time\",by=\"sta\",direction=\"nearest\",tolerance=pd.Timedelta(\"1s\"))\n",
    "\n",
    "# select merged1 so type_y is not null\n",
    "merged1=merged1[merged1[\"type_y\"].notnull()]\n",
    "# select merged3 so type_y is null\n",
    "merged3=merged3[merged3[\"type_y\"].isnull()]\n",
    "\n",
    "# see which rows in merged1 and merged3 have the same mp_event_index,sta\n",
    "common=merged1.merge(merged3,on=[\"mp_event_index\",\"sta\"],how=\"inner\")\n",
    "common.head(n=20)"
   ]
  },
  {
   "cell_type": "code",
   "execution_count": null,
   "metadata": {},
   "outputs": [],
   "source": []
  }
 ],
 "metadata": {
  "kernelspec": {
   "display_name": "phasenet-tf-figures-iFaVRqIH-py3.9",
   "language": "python",
   "name": "python3"
  },
  "language_info": {
   "codemirror_mode": {
    "name": "ipython",
    "version": 3
   },
   "file_extension": ".py",
   "mimetype": "text/x-python",
   "name": "python",
   "nbconvert_exporter": "python",
   "pygments_lexer": "ipython3",
   "version": "3.9.13"
  }
 },
 "nbformat": 4,
 "nbformat_minor": 2
}
