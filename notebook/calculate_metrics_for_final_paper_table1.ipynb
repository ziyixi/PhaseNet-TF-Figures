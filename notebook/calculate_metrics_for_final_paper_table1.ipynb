{
 "cells": [
  {
   "cell_type": "code",
   "execution_count": 1,
   "metadata": {},
   "outputs": [],
   "source": [
    "import pandas as pd"
   ]
  },
  {
   "cell_type": "code",
   "execution_count": 2,
   "metadata": {},
   "outputs": [
    {
     "data": {
      "text/plain": [
       "(  mp_event_index   sta type                       time\n",
       " 0       11_52111   A01    p 2009-12-02 01:14:41.317870\n",
       " 1       11_52111  A02W    p 2009-12-02 01:14:42.457750\n",
       " 2       11_52111   A03    p 2009-12-02 01:14:43.547000\n",
       " 3       11_52111   A05    p 2009-12-02 01:14:47.038000\n",
       " 4       11_52111  A06W    p 2009-12-02 01:14:48.857230,\n",
       " 57108)"
      ]
     },
     "execution_count": 2,
     "metadata": {},
     "output_type": "execute_result"
    }
   ],
   "source": [
    "reference_phase=pd.read_csv(\"/Users/ziyixi/Library/CloudStorage/OneDrive-MichiganStateUniversity/Paper/PhaseNetTF_myturn/PhaseNet-TF-Figures/phasenettf/data/catalog/tonga_picks_updated_2023_0426.csv\")\n",
    "reference_phase_melted = reference_phase.melt(id_vars=['originid', 'stacode'], \n",
    "                    value_vars=['arrival_time_P', 'arrival_time_S'], \n",
    "                    var_name='type', \n",
    "                    value_name='time')\n",
    "reference_phase_melted['type'] = reference_phase_melted['type'].str.replace('arrival_time_', '')\n",
    "reference_phase_melted[\"type\"]=reference_phase_melted[\"type\"].replace({\"P\":\"p\", \"S\":\"s\"})\n",
    "reference_phase_melted[\"time\"]=pd.to_datetime(reference_phase_melted[\"time\"])\n",
    "reference_phase_melted.rename(columns={\"stacode\":\"sta\", \"originid\":\"mp_event_index\"}, inplace=True)\n",
    "reference_phase_melted.dropna(inplace=True)\n",
    "reference_phase=reference_phase_melted\n",
    "reference_phase.head(),len(reference_phase)"
   ]
  },
  {
   "cell_type": "code",
   "execution_count": 3,
   "metadata": {},
   "outputs": [
    {
     "data": {
      "text/plain": [
       "(42256, 14852)"
      ]
     },
     "execution_count": 3,
     "metadata": {},
     "output_type": "execute_result"
    }
   ],
   "source": [
    "len(reference_phase[reference_phase.type==\"p\"]),len(reference_phase[reference_phase.type==\"s\"])"
   ]
  },
  {
   "cell_type": "code",
   "execution_count": 19,
   "metadata": {},
   "outputs": [
    {
     "data": {
      "text/plain": [
       "(   latitude  longitude     depth                       time mp_event_index\n",
       " 0  -21.4486  -175.0123   59.8167 2009-12-02 01:14:28.278360       11_52111\n",
       " 1  -21.0021  -176.0597  189.5062 2009-12-02 02:25:13.607840       11_52113\n",
       " 2  -20.0291  -175.3772  179.2744 2009-12-02 15:41:32.776970       11_52115\n",
       " 3  -20.8052  -174.5321   66.1092 2009-12-03 09:43:16.236000       11_52119\n",
       " 4  -19.4698  -174.9927  146.2841 2009-12-04 17:37:18.418720       11_52124,\n",
       " 1163)"
      ]
     },
     "execution_count": 19,
     "metadata": {},
     "output_type": "execute_result"
    }
   ],
   "source": [
    "reference_catalog=pd.read_csv(\"/Users/ziyixi/Library/CloudStorage/OneDrive-MichiganStateUniversity/Paper/PhaseNetTF_myturn/PhaseNet-TF-Figures/phasenettf/data/catalog/tonga_catalog_updated_2023_0426.csv\")\n",
    "reference_catalog.drop(columns=[\"eventid\",\"author\",\"subset\",\"mb\",\"ISCid\"],inplace=True)\n",
    "reference_catalog[\"time\"]=pd.to_datetime(reference_catalog[\"time\"])\n",
    "reference_catalog.rename(columns={\"originid\":\"mp_event_index\"},inplace=True)\n",
    "reference_catalog.head(),len(reference_catalog)"
   ]
  },
  {
   "cell_type": "code",
   "execution_count": 4,
   "metadata": {},
   "outputs": [
    {
     "data": {
      "text/plain": [
       "(   event_index   latitude   longitude       depth  \\\n",
       " 0           55 -21.078356 -177.229740  365.655880   \n",
       " 1           68 -16.359084 -174.505760  204.380435   \n",
       " 2           74 -20.494930 -176.895955  478.382117   \n",
       " 3           88 -17.442211 -177.878019  646.372351   \n",
       " 4           93 -18.800355 -175.508731   28.436913   \n",
       " \n",
       "                            time  \n",
       " 0 2010-01-18 06:48:53.679099136  \n",
       " 1 2010-01-26 01:47:51.560340480  \n",
       " 2 2010-06-28 04:23:34.643994112  \n",
       " 3 2010-04-16 04:21:24.130119936  \n",
       " 4 2010-07-12 04:08:03.839479552  ,\n",
       " 9427)"
      ]
     },
     "execution_count": 4,
     "metadata": {},
     "output_type": "execute_result"
    }
   ],
   "source": [
    "iteration1_catalog = pd.read_csv(\n",
    "        \"/Users/ziyixi/Library/CloudStorage/OneDrive-MichiganStateUniversity/Paper/PhaseNetTF_myturn/PhaseNet-TF-Figures/phasenettf/data/catalog/continious_bootstrapped.csv\",\n",
    "        usecols=[0, 1, 2, 3, 4],\n",
    "    )\n",
    "iteration1_catalog.rename(\n",
    "        columns={\n",
    "            \"id\": \"event_index\",\n",
    "        },\n",
    "        inplace=True,\n",
    "    )\n",
    "iteration1_catalog[\"time\"] = pd.to_datetime(iteration1_catalog[\"datetime\"])\n",
    "iteration1_catalog.drop(columns=[\"datetime\"], inplace=True)\n",
    "iteration1_catalog.head(),len(iteration1_catalog)"
   ]
  },
  {
   "cell_type": "code",
   "execution_count": 5,
   "metadata": {},
   "outputs": [
    {
     "data": {
      "text/plain": [
       "(                        time type  event_index  gamma_score   sta\n",
       " 0 2009-11-01 12:29:38.419900    p           -1    -1.000000  MSVF\n",
       " 1 2009-11-01 16:03:19.149900    p        31625     0.079182  MSVF\n",
       " 2 2009-11-01 20:23:03.249900    p        12394     0.068525  MSVF\n",
       " 3 2009-11-01 20:59:34.149900    p           -1    -1.000000  MSVF\n",
       " 4 2009-11-01 20:23:15.619900    s        12394     0.052664  MSVF,\n",
       " 749549)"
      ]
     },
     "execution_count": 5,
     "metadata": {},
     "output_type": "execute_result"
    }
   ],
   "source": [
    "iteration1_phasenettf_phase=pd.read_csv(\n",
    "        \"/Users/ziyixi/Library/CloudStorage/OneDrive-MichiganStateUniversity/Paper/PhaseNetTF_myturn/PhaseNet-TF-Figures/phasenettf/data/catalog/continious_associated_assignment.csv\",\n",
    "        skiprows=1,\n",
    "        names=[\n",
    "            \"id\",\n",
    "            \"date\",\n",
    "            \"time\",\n",
    "            \"amp\",\n",
    "            \"type\",\n",
    "            \"prob\",\n",
    "            \"event_index\",\n",
    "            \"gamma_score\",\n",
    "        ],\n",
    "        sep=r\"\\s+\",\n",
    "    )\n",
    "\n",
    "iteration1_phasenettf_phase[\"sta\"]=iteration1_phasenettf_phase[\"id\"].str.split(\".\").str[1]\n",
    "iteration1_phasenettf_phase[\"time\"]=pd.to_datetime(iteration1_phasenettf_phase[\"date\"]+\" \"+iteration1_phasenettf_phase[\"time\"])\n",
    "iteration1_phasenettf_phase=iteration1_phasenettf_phase.drop([\"date\",\"id\",\"amp\",\"prob\"],axis=1)\n",
    "iteration1_phasenettf_phase.head(),len(iteration1_phasenettf_phase)"
   ]
  },
  {
   "cell_type": "code",
   "execution_count": 7,
   "metadata": {},
   "outputs": [
    {
     "data": {
      "text/plain": [
       "(                         time type  event_index  gamma_score   sta\n",
       " 21 2009-11-04 20:43:54.029900    p        15715     0.083852  MSVF\n",
       " 70 2009-11-10 08:05:06.929900    p         6004     0.088009  MSVF\n",
       " 72 2009-11-10 08:17:57.669900    p        21695     0.113771  MSVF\n",
       " 76 2009-11-10 08:05:30.519900    s         6004     0.002691  MSVF\n",
       " 77 2009-11-10 08:18:55.549900    s        21695     0.108274  MSVF,\n",
       " 280844)"
      ]
     },
     "execution_count": 7,
     "metadata": {},
     "output_type": "execute_result"
    }
   ],
   "source": [
    "# select iteration1_relocation_phase from iteration1_phasenettf_phase with event_index in iteration1_relocation_catalog\n",
    "iteration1_relocation_catalog_event_index_set=set(iteration1_catalog[\"event_index\"])\n",
    "iteration1_relocation_phase=iteration1_phasenettf_phase[iteration1_phasenettf_phase[\"event_index\"].isin(iteration1_relocation_catalog_event_index_set)]\n",
    "iteration1_relocation_phase.head(),len(iteration1_relocation_phase)"
   ]
  },
  {
   "cell_type": "code",
   "execution_count": 8,
   "metadata": {},
   "outputs": [
    {
     "data": {
      "text/plain": [
       "(217254, 63590)"
      ]
     },
     "execution_count": 8,
     "metadata": {},
     "output_type": "execute_result"
    }
   ],
   "source": [
    "len(iteration1_relocation_phase[iteration1_relocation_phase.type==\"p\"]),len(iteration1_relocation_phase[iteration1_relocation_phase.type==\"s\"])"
   ]
  },
  {
   "cell_type": "code",
   "execution_count": 9,
   "metadata": {},
   "outputs": [
    {
     "data": {
      "text/plain": [
       "(   event_index   latitude   longitude       depth  \\\n",
       " 0           49 -24.055055 -178.753175  581.541092   \n",
       " 1           59 -22.996563 -175.655182   85.202101   \n",
       " 2           64 -23.101836 -178.642513  554.767645   \n",
       " 3           78 -21.863043 -175.590572  140.706452   \n",
       " 4           95 -20.365366 -177.123331  446.403303   \n",
       " \n",
       "                            time  \n",
       " 0 2010-09-05 06:20:43.693259008  \n",
       " 1 2010-02-03 07:50:12.698582784  \n",
       " 2 2010-07-21 13:36:11.897348096  \n",
       " 3 2010-02-07 15:23:13.122398720  \n",
       " 4 2010-04-16 07:59:40.670819840  ,\n",
       " 13799)"
      ]
     },
     "execution_count": 9,
     "metadata": {},
     "output_type": "execute_result"
    }
   ],
   "source": [
    "iteration2_catalog = pd.read_csv(\n",
    "        \"/Users/ziyixi/Library/CloudStorage/OneDrive-MichiganStateUniversity/Paper/PhaseNetTF_myturn/PhaseNet-TF-Figures/phasenettf/data/catalog/continious_semi.csv\",\n",
    "        usecols=[0, 1, 2, 3, 4],\n",
    "    )\n",
    "iteration2_catalog.rename(\n",
    "        columns={\n",
    "            \"id\": \"event_index\",\n",
    "        },\n",
    "        inplace=True,\n",
    "    )\n",
    "iteration2_catalog[\"time\"] = pd.to_datetime(iteration2_catalog[\"datetime\"])\n",
    "iteration2_catalog.drop(columns=[\"datetime\"], inplace=True)\n",
    "iteration2_catalog.head(),len(iteration2_catalog)"
   ]
  },
  {
   "cell_type": "code",
   "execution_count": 10,
   "metadata": {},
   "outputs": [
    {
     "data": {
      "text/plain": [
       "(                        time type  event_index  gamma_score   sta\n",
       " 0 2009-11-01 04:21:03.099900    p        25214     0.002465  MSVF\n",
       " 1 2009-11-01 08:07:02.399900    p           -1    -1.000000  MSVF\n",
       " 2 2009-11-01 12:29:38.529900    p           -1    -1.000000  MSVF\n",
       " 3 2009-11-01 12:57:23.319900    p           -1    -1.000000  MSVF\n",
       " 4 2009-11-01 16:03:19.029900    p        12931     0.077535  MSVF,\n",
       " 1293246)"
      ]
     },
     "execution_count": 10,
     "metadata": {},
     "output_type": "execute_result"
    }
   ],
   "source": [
    "iteration2_phasenettf_phase=pd.read_csv(\n",
    "        \"/Users/ziyixi/Library/CloudStorage/OneDrive-MichiganStateUniversity/Paper/PhaseNetTF_myturn/PhaseNet-TF-Figures/phasenettf/data/catalog/semi-v1.assignment.csv\",\n",
    "        skiprows=1,\n",
    "        names=[\n",
    "            \"id\",\n",
    "            \"date\",\n",
    "            \"time\",\n",
    "            \"amp\",\n",
    "            \"type\",\n",
    "            \"prob\",\n",
    "            \"event_index\",\n",
    "            \"gamma_score\",\n",
    "        ],\n",
    "        sep=r\"\\s+\",\n",
    "    )\n",
    "\n",
    "iteration2_phasenettf_phase[\"sta\"]=iteration2_phasenettf_phase[\"id\"].str.split(\".\").str[1]\n",
    "iteration2_phasenettf_phase[\"time\"]=pd.to_datetime(iteration2_phasenettf_phase[\"date\"]+\" \"+iteration2_phasenettf_phase[\"time\"])\n",
    "iteration2_phasenettf_phase=iteration2_phasenettf_phase.drop([\"date\",\"id\",\"amp\",\"prob\"],axis=1)\n",
    "iteration2_phasenettf_phase.head(),len(iteration2_phasenettf_phase)"
   ]
  },
  {
   "cell_type": "code",
   "execution_count": 11,
   "metadata": {},
   "outputs": [
    {
     "data": {
      "text/plain": [
       "(                          time type  event_index  gamma_score   sta\n",
       " 62  2009-11-04 20:43:53.969900    p        98879     0.005614  MSVF\n",
       " 81  2009-11-06 16:32:12.919900    p        79255     0.071732  MSVF\n",
       " 112 2009-11-08 16:39:36.679900    p        98419     0.111880  MSVF\n",
       " 163 2009-11-10 08:05:07.049900    p        71320     0.095103  MSVF\n",
       " 165 2009-11-10 08:17:57.599900    p        14608     0.114541  MSVF,\n",
       " 422840)"
      ]
     },
     "execution_count": 11,
     "metadata": {},
     "output_type": "execute_result"
    }
   ],
   "source": [
    "iteration2_relocation_catalog_event_index_set=set(iteration2_catalog[\"event_index\"])\n",
    "iteration2_relocation_phase=iteration2_phasenettf_phase[iteration2_phasenettf_phase[\"event_index\"].isin(iteration2_relocation_catalog_event_index_set)]\n",
    "iteration2_relocation_phase.head(),len(iteration2_relocation_phase)"
   ]
  },
  {
   "cell_type": "code",
   "execution_count": 12,
   "metadata": {},
   "outputs": [
    {
     "data": {
      "text/plain": [
       "(343247, 79593)"
      ]
     },
     "execution_count": 12,
     "metadata": {},
     "output_type": "execute_result"
    }
   ],
   "source": [
    "len(iteration2_relocation_phase[iteration2_relocation_phase.type==\"p\"]),len(iteration2_relocation_phase[iteration2_relocation_phase.type==\"s\"])"
   ]
  },
  {
   "cell_type": "code",
   "execution_count": 14,
   "metadata": {},
   "outputs": [
    {
     "data": {
      "text/plain": [
       "(   event_index   latitude   longitude       depth  \\\n",
       " 0          188 -16.201434 -172.365634  106.331183   \n",
       " 1          210 -18.773165 -175.619987  214.956622   \n",
       " 2          221 -20.299335 -174.154085  129.158232   \n",
       " 3          251 -16.156015 -172.249285   93.169231   \n",
       " 4          258 -18.484624 -174.527434  209.984489   \n",
       " \n",
       "                            time  \n",
       " 0 2009-11-20 01:53:42.226608896  \n",
       " 1 2009-11-19 18:36:05.594294272  \n",
       " 2 2009-11-30 08:20:48.752517632  \n",
       " 3 2009-11-23 21:30:12.039857920  \n",
       " 4 2009-11-24 05:30:48.569999872  ,\n",
       " 13406)"
      ]
     },
     "execution_count": 14,
     "metadata": {},
     "output_type": "execute_result"
    }
   ],
   "source": [
    "iteration3_catalog = pd.read_csv(\n",
    "        \"/Users/ziyixi/Library/CloudStorage/OneDrive-MichiganStateUniversity/Paper/PhaseNetTF_myturn/PhaseNet-TF-Figures/phasenettf/data/catalog/continuous_v3.csv\",\n",
    "        usecols=[0, 1, 2, 3, 4],\n",
    "    )\n",
    "iteration3_catalog.rename(\n",
    "        columns={\n",
    "            \"id\": \"event_index\",\n",
    "        },\n",
    "        inplace=True,\n",
    "    )\n",
    "iteration3_catalog[\"time\"] = pd.to_datetime(iteration3_catalog[\"datetime\"])\n",
    "iteration3_catalog.drop(columns=[\"datetime\"], inplace=True)\n",
    "iteration3_catalog.head(),len(iteration3_catalog)"
   ]
  },
  {
   "cell_type": "code",
   "execution_count": 15,
   "metadata": {},
   "outputs": [
    {
     "data": {
      "text/plain": [
       "(                        time type  event_index  gamma_score   sta\n",
       " 0 2009-11-01 04:21:04.899900    p         1347     0.001252  MSVF\n",
       " 1 2009-11-30 05:36:21.775600    p         3667     0.000773  C09W\n",
       " 2 2009-11-30 05:44:57.775600    p         3670     0.000773  C09W\n",
       " 3 2009-11-30 05:36:45.875600    s         3667     0.000142  C09W\n",
       " 4 2009-11-30 09:03:03.445600    p         5329     0.000141  C09W,\n",
       " 2080940)"
      ]
     },
     "execution_count": 15,
     "metadata": {},
     "output_type": "execute_result"
    }
   ],
   "source": [
    "iteration3_phasenettf_phase=pd.read_csv(\n",
    "        \"/Users/ziyixi/Library/CloudStorage/OneDrive-MichiganStateUniversity/Paper/PhaseNetTF_myturn/PhaseNet-TF-Figures/phasenettf/data/catalog/semi-iteration3_picks.csv\",\n",
    "        skiprows=1,\n",
    "        names=[\n",
    "            \"id\",\n",
    "            \"date\",\n",
    "            \"time\",\n",
    "            \"amp\",\n",
    "            \"type\",\n",
    "            \"prob\",\n",
    "            \"event_index\",\n",
    "            \"gamma_score\",\n",
    "        ],\n",
    "        sep=r\"\\s+\",\n",
    "    )\n",
    "\n",
    "iteration3_phasenettf_phase[\"sta\"]=iteration3_phasenettf_phase[\"id\"].str.split(\".\").str[1]\n",
    "iteration3_phasenettf_phase[\"time\"]=pd.to_datetime(iteration3_phasenettf_phase[\"date\"]+\" \"+iteration3_phasenettf_phase[\"time\"])\n",
    "iteration3_phasenettf_phase=iteration3_phasenettf_phase.drop([\"date\",\"id\",\"amp\",\"prob\"],axis=1)\n",
    "iteration3_phasenettf_phase.head(),len(iteration3_phasenettf_phase)"
   ]
  },
  {
   "cell_type": "code",
   "execution_count": 16,
   "metadata": {},
   "outputs": [
    {
     "data": {
      "text/plain": [
       "(                         time type  event_index  gamma_score   sta\n",
       " 1  2009-11-30 05:36:21.775600    p         3667     0.000773  C09W\n",
       " 3  2009-11-30 05:36:45.875600    s         3667     0.000142  C09W\n",
       " 10 2009-11-30 13:22:19.465600    p         2816     0.000107  C09W\n",
       " 14 2009-11-30 13:22:44.345600    s         2816     0.000412  C09W\n",
       " 18 2009-11-30 01:14:11.345600    s         1746     0.093520  C09W,\n",
       " 451627)"
      ]
     },
     "execution_count": 16,
     "metadata": {},
     "output_type": "execute_result"
    }
   ],
   "source": [
    "iteration3_relocation_catalog_event_index_set=set(iteration3_catalog[\"event_index\"])\n",
    "iteration3_relocation_phase=iteration3_phasenettf_phase[iteration3_phasenettf_phase[\"event_index\"].isin(iteration3_relocation_catalog_event_index_set)]\n",
    "iteration3_relocation_phase.head(),len(iteration3_relocation_phase)"
   ]
  },
  {
   "cell_type": "code",
   "execution_count": 17,
   "metadata": {},
   "outputs": [
    {
     "data": {
      "text/plain": [
       "(372774, 78853)"
      ]
     },
     "execution_count": 17,
     "metadata": {},
     "output_type": "execute_result"
    }
   ],
   "source": [
    "len(iteration3_relocation_phase[iteration3_relocation_phase.type==\"p\"]),len(iteration3_relocation_phase[iteration3_relocation_phase.type==\"s\"])"
   ]
  },
  {
   "cell_type": "code",
   "execution_count": 18,
   "metadata": {},
   "outputs": [],
   "source": [
    "def calculate_event_based_metrics(df_new_raw:pd.DataFrame,df_ref_raw:pd.DataFrame):\n",
    "    # calculate precision, recall, and f1-score, example df_new: iteration1_association_catalog, example df_ref: reference_catalog\n",
    "    df_new=df_new_raw.copy()\n",
    "    df_ref=df_ref_raw.copy()\n",
    "    df_new.sort_values(by=[\"time\"],inplace=True)\n",
    "    df_ref.sort_values(by=[\"time\"],inplace=True)\n",
    "    \n",
    "    merged=pd.merge_asof(df_new,df_ref,on=\"time\",direction=\"nearest\",tolerance=pd.Timedelta(\"15s\"))\n",
    "    merged.dropna(inplace=True)\n",
    "    merged.drop_duplicates(subset=[\"mp_event_index\"],inplace=True)\n",
    "    # calculate precision\n",
    "    tp=len(merged)\n",
    "    fp=len(df_new)-len(merged)\n",
    "    fn=len(df_ref)-len(merged)\n",
    "    precision=tp/(tp+fp)\n",
    "    recall=tp/(tp+fn)\n",
    "    f1_score=2*precision*recall/(precision+recall)\n",
    "    return {\n",
    "        \"tp\":tp,\n",
    "        \"fp\":fp,\n",
    "        \"fn\":fn,\n",
    "        \"precision\":precision,\n",
    "        \"recall\":recall,\n",
    "        \"f1_score\":f1_score,\n",
    "    }"
   ]
  },
  {
   "cell_type": "code",
   "execution_count": 20,
   "metadata": {},
   "outputs": [
    {
     "data": {
      "text/plain": [
       "{'tp': 1114,\n",
       " 'fp': 8313,\n",
       " 'fn': 49,\n",
       " 'precision': 0.11817121035324069,\n",
       " 'recall': 0.9578675838349097,\n",
       " 'f1_score': 0.21038715769593955}"
      ]
     },
     "execution_count": 20,
     "metadata": {},
     "output_type": "execute_result"
    }
   ],
   "source": [
    "calculate_event_based_metrics(iteration1_catalog,reference_catalog)"
   ]
  },
  {
   "cell_type": "code",
   "execution_count": 21,
   "metadata": {},
   "outputs": [
    {
     "data": {
      "text/plain": [
       "{'tp': 1121,\n",
       " 'fp': 12678,\n",
       " 'fn': 42,\n",
       " 'precision': 0.08123777085296036,\n",
       " 'recall': 0.9638865004299226,\n",
       " 'f1_score': 0.14984627723566368}"
      ]
     },
     "execution_count": 21,
     "metadata": {},
     "output_type": "execute_result"
    }
   ],
   "source": [
    "calculate_event_based_metrics(iteration2_catalog,reference_catalog)"
   ]
  },
  {
   "cell_type": "code",
   "execution_count": 22,
   "metadata": {},
   "outputs": [
    {
     "data": {
      "text/plain": [
       "{'tp': 1052,\n",
       " 'fp': 12354,\n",
       " 'fn': 111,\n",
       " 'precision': 0.0784723258242578,\n",
       " 'recall': 0.9045571797076526,\n",
       " 'f1_score': 0.14441622623378406}"
      ]
     },
     "execution_count": 22,
     "metadata": {},
     "output_type": "execute_result"
    }
   ],
   "source": [
    "calculate_event_based_metrics(iteration3_catalog,reference_catalog)"
   ]
  },
  {
   "cell_type": "code",
   "execution_count": 23,
   "metadata": {},
   "outputs": [],
   "source": [
    "def calculate_phase_based_metrics(df_new_raw:pd.DataFrame,df_ref_raw:pd.DataFrame,phase:str):\n",
    "    # calculate precision, recall, and f1-score, example df_new: iteration1_association_phase, example df_ref: reference_phase\n",
    "    df_new=df_new_raw[df_new_raw[\"type\"]==phase].copy()\n",
    "    df_ref=df_ref_raw[df_ref_raw[\"type\"]==phase].copy()\n",
    "    df_new.sort_values(by=[\"time\",\"sta\"],inplace=True)\n",
    "    df_ref.sort_values(by=[\"time\",\"sta\"],inplace=True)\n",
    "    \n",
    "    merged=pd.merge_asof(df_new,df_ref,on=\"time\",by=\"sta\",direction=\"nearest\",tolerance=pd.Timedelta(\"0.5s\"))\n",
    "    merged.dropna(inplace=True)\n",
    "    merged.drop_duplicates(subset=[\"mp_event_index\",\"sta\"],inplace=True)\n",
    "    # calculate precision\n",
    "    tp=len(merged)\n",
    "    fp=len(df_new)-len(merged)\n",
    "    fn=len(df_ref)-len(merged)\n",
    "    precision=tp/(tp+fp)\n",
    "    recall=tp/(tp+fn)\n",
    "    f1_score=2*precision*recall/(precision+recall)\n",
    "    return {\n",
    "        \"tp\":tp,\n",
    "        \"fp\":fp,\n",
    "        \"fn\":fn,\n",
    "        \"precision\":precision,\n",
    "        \"recall\":recall,\n",
    "        \"f1_score\":f1_score,\n",
    "    }"
   ]
  },
  {
   "cell_type": "code",
   "execution_count": 25,
   "metadata": {},
   "outputs": [
    {
     "data": {
      "text/plain": [
       "{'tp': 39332,\n",
       " 'fp': 177922,\n",
       " 'fn': 2924,\n",
       " 'precision': 0.18104154584035276,\n",
       " 'recall': 0.9308027262400606,\n",
       " 'f1_score': 0.3031251204192516}"
      ]
     },
     "execution_count": 25,
     "metadata": {},
     "output_type": "execute_result"
    }
   ],
   "source": [
    "calculate_phase_based_metrics(iteration1_relocation_phase,reference_phase,\"p\")"
   ]
  },
  {
   "cell_type": "code",
   "execution_count": 26,
   "metadata": {},
   "outputs": [
    {
     "data": {
      "text/plain": [
       "{'tp': 12258,\n",
       " 'fp': 51332,\n",
       " 'fn': 2594,\n",
       " 'precision': 0.192766158200975,\n",
       " 'recall': 0.8253433880958794,\n",
       " 'f1_score': 0.3125366512837511}"
      ]
     },
     "execution_count": 26,
     "metadata": {},
     "output_type": "execute_result"
    }
   ],
   "source": [
    "calculate_phase_based_metrics(iteration1_relocation_phase,reference_phase,\"s\")"
   ]
  },
  {
   "cell_type": "code",
   "execution_count": 27,
   "metadata": {},
   "outputs": [
    {
     "data": {
      "text/plain": [
       "{'tp': 39101,\n",
       " 'fp': 304146,\n",
       " 'fn': 3155,\n",
       " 'precision': 0.11391505242580416,\n",
       " 'recall': 0.9253360469519122,\n",
       " 'f1_score': 0.20285704650806866}"
      ]
     },
     "execution_count": 27,
     "metadata": {},
     "output_type": "execute_result"
    }
   ],
   "source": [
    "calculate_phase_based_metrics(iteration2_relocation_phase,reference_phase,\"p\")"
   ]
  },
  {
   "cell_type": "code",
   "execution_count": 32,
   "metadata": {},
   "outputs": [
    {
     "data": {
      "text/plain": [
       "{'tp': 11392,\n",
       " 'fp': 68201,\n",
       " 'fn': 3460,\n",
       " 'precision': 0.1431281645370824,\n",
       " 'recall': 0.767034742795583,\n",
       " 'f1_score': 0.24124093387685952}"
      ]
     },
     "execution_count": 32,
     "metadata": {},
     "output_type": "execute_result"
    }
   ],
   "source": [
    "calculate_phase_based_metrics(iteration2_relocation_phase,reference_phase,\"s\")"
   ]
  },
  {
   "cell_type": "code",
   "execution_count": 29,
   "metadata": {},
   "outputs": [
    {
     "data": {
      "text/plain": [
       "{'tp': 37137,\n",
       " 'fp': 335637,\n",
       " 'fn': 5119,\n",
       " 'precision': 0.09962336429042798,\n",
       " 'recall': 0.8788574403634987,\n",
       " 'f1_score': 0.17896055706816374}"
      ]
     },
     "execution_count": 29,
     "metadata": {},
     "output_type": "execute_result"
    }
   ],
   "source": [
    "calculate_phase_based_metrics(iteration3_relocation_phase,reference_phase,\"p\")"
   ]
  },
  {
   "cell_type": "code",
   "execution_count": 30,
   "metadata": {},
   "outputs": [
    {
     "data": {
      "text/plain": [
       "{'tp': 10098,\n",
       " 'fp': 68755,\n",
       " 'fn': 4754,\n",
       " 'precision': 0.1280610756724538,\n",
       " 'recall': 0.6799084298410989,\n",
       " 'f1_score': 0.2155274531775252}"
      ]
     },
     "execution_count": 30,
     "metadata": {},
     "output_type": "execute_result"
    }
   ],
   "source": [
    "calculate_phase_based_metrics(iteration3_relocation_phase,reference_phase,\"s\")"
   ]
  },
  {
   "cell_type": "code",
   "execution_count": null,
   "metadata": {},
   "outputs": [],
   "source": []
  }
 ],
 "metadata": {
  "kernelspec": {
   "display_name": "phasenet-tf-figures-iFaVRqIH-py3.9",
   "language": "python",
   "name": "python3"
  },
  "language_info": {
   "codemirror_mode": {
    "name": "ipython",
    "version": 3
   },
   "file_extension": ".py",
   "mimetype": "text/x-python",
   "name": "python",
   "nbconvert_exporter": "python",
   "pygments_lexer": "ipython3",
   "version": "3.9.13"
  }
 },
 "nbformat": 4,
 "nbformat_minor": 2
}
